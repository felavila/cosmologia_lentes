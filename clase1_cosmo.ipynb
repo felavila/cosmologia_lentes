{
 "cells": [
  {
   "cell_type": "code",
   "execution_count": 1,
   "metadata": {},
   "outputs": [],
   "source": [
    "import numpy as np\n",
    "from scipy.integrate import quad\n",
    "import matplotlib.pyplot as plt"
   ]
  },
  {
   "cell_type": "markdown",
   "metadata": {},
   "source": [
    "Parámetros cosmológicos"
   ]
  },
  {
   "cell_type": "code",
   "execution_count": 2,
   "metadata": {},
   "outputs": [
    {
     "data": {
      "text/plain": [
       "4450.593824228029"
      ]
     },
     "execution_count": 2,
     "metadata": {},
     "output_type": "execute_result"
    }
   ],
   "source": [
    "neff0=3.04 # número efectivo de especies relativista\n",
    "h=.6736 #H0/100 km/s/Mpc\n",
    "om_bar0=0.051 #parámetro de densidad bariónico a z=0\n",
    "om_dm0=0.264 #parámetro de densidad de materia oscura a z=0\n",
    "om_lam0=0.68 #parámetro de densidad de constante cosmológica a z=0\n",
    "om_rad0=9.237e-05 #parámetro de densidad de radiación a z=0\n",
    "om_k=0 #de momento es 0 xq estamos viendo universo plano\n",
    "c=299792 #km/s #velocidad de la luz\n",
    "kmtoMpc=3.2408e-20 #factor de conversión de km a Mpc\n",
    "H0s=(h*100)*kmtoMpc\n",
    "c_over_H0=c*kmtoMpc/H0s #c/H0 rh\n",
    "c_over_H0"
   ]
  },
  {
   "cell_type": "markdown",
   "metadata": {},
   "source": [
    "Definimos la ecuación de Friedmann para un Universo plano con materia oscura, materia bariónica, radiación y constante cosmológica\n",
    "\n",
    "\\begin{equation}\n",
    "H^2=\\frac{8 \\pi G}{3}\\left(\\rho_{DM} + \\rho_{b} + \\rho_{r} + \\rho_{\\Lambda} \\right),\n",
    "\\label{eq:FC}\n",
    "\\end{equation}\n",
    "\n",
    "\n",
    "\\begin{eqnarray}\n",
    "{\\dot\\rho_{DM}}& + &3\\,H \\rho_{DM}=0,\\\\\n",
    "{\\dot\\rho_{b}}& + &3\\,H \\rho_{b}=0,\\\\\n",
    "{\\dot\\rho_{r}}& + &4\\,H \\rho_{r}=0,\\\\\n",
    "{\\dot\\rho_{\\Lambda}}&=&0.\n",
    "\\end{eqnarray}\n",
    "\n",
    "Si no consideramos neutrinos, la Ec. de Friedmann en término de los parámetros de densidad y redshift\n",
    "\n",
    "\\begin{equation}\n",
    "H^2=H_{0}^{2}\\left[\\Omega_{DM0}(1+z)^3 + \\Omega_{b0}(1+z)^3 + \\Omega_{r0}(1+z)^4+ \\Omega_{\\Lambda} \\right]\n",
    "\\end{equation}\n",
    "\n",
    "Podemos usar la condición de planitud para $\\Omega_{\\Lambda}=1-\\Omega_{DM0}-\\Omega_{b0}-\\Omega_{r0}$"
   ]
  },
  {
   "cell_type": "code",
   "execution_count": null,
   "metadata": {},
   "outputs": [],
   "source": [
    "# def Hz(z,h,om_bar0,om_dm0,om_rad0):\n",
    "    H0=100*h\n",
    "    Z=1.0+z\n",
    "    om_lamb=(1.0-om_dm0-om_rad0-om_bar0) #condición de planitud omega lambda \n",
    "    x=np.sqrt(om_dm0*(Z)**3+om_bar0*(Z)**3+om_rad0*(Z)**4+om_lamb)\n",
    "    return x*H0\n",
    "def Ez(z,h,om_bar0,om_dm0,om_rad0):\n",
    "    H0=100*h\n",
    "    return Hz(z,h,om_bar0,om_dm0,om_rad0)/H0\n",
    "def f(z,h,om_bar0,om_dm0,om_rad0):\n",
    "    return 1.0/Ez(z,h,om_bar0,om_dm0,om_rad0)\n",
    "\n",
    "def Dc(z,h,om_bar0,om_dm0,om_rad0):#The total line-of-sight comoving distance \n",
    "    om_lamb=(1.0-om_dm0-om_rad0-om_bar0)\n",
    "    if type(z)==int or type(z)==float or type(z)==np.float64:\n",
    "        Dc=quad(lambda x:f(x,h,om_bar0,om_dm0,om_rad0), 0, z)[0]\n",
    "    else:\n",
    "        Dc=np.array([])\n",
    "        for i in range(len(z)):\n",
    "            Dc=np.append(Dc,quad(lambda x:f(x,h,om_bar0,om_dm0,om_rad0), 0, z[i])[0])                \n",
    "    return c_over_H0*Dc\n",
    "def tL(z,h,om_bar0,om_dm0,om_rad0): #lookback time tL\n",
    "    th=1/(100*h) #tiempo de hubble\n",
    "    om_lamb=(1.0-om_dm0-om_rad0-om_bar0)\n",
    "    if type(z)==int or type(z)==float:\n",
    "        Dc=quad(lambda x:f(x,h,om_bar0,om_dm0,om_rad0)/(x+1), 0, z)[0]\n",
    "    else:\n",
    "        Dc=np.array([])\n",
    "        for i in range(len(z)):\n",
    "            Dc=np.append(Dc,quad(lambda x:f(x,h,om_bar0,om_dm0,om_rad0)/(x+1), 0, z[i])[0])                \n",
    "    return th*Dc\n",
    "def Dm(z,h,om_bar0,om_dm0,om_rad0):#Comoving distance transverse \n",
    "    if om_k>0:\n",
    "        D_m=c_over_H0*(om_k)**(-0.5)*np.sinh((om_k)**(0.5)*Dc(z,h,om_bar0,om_dm0,om_rad0)/c_over_H0)\n",
    "    elif om_k==0:\n",
    "        D_m=Dc(z,h,om_bar0,om_dm0,om_rad0)      \n",
    "    else:\n",
    "        D_m=c_over_H0*(abs(om_k))**(-0.5)*np.sinh((abs(om_k))**(0.5)*Dc(z,h,om_bar0,om_dm0,om_rad0)/c_over_H0)\n",
    "    return D_m\n",
    "def Da(z,h,om_bar0,om_dm0,om_rad0): #ANGULAR DISTANCE \n",
    "    return Dm(z,h,om_bar0,om_dm0,om_rad0)/(1+z) \n",
    "def Dab(z1,z2,h,om_bar0,om_dm0,om_rad0): #Angular diameter disntace DA12 between two objects at redshifts z1 and z2,\n",
    "    return (1/(1+z2))*(Dm(z2,h,om_bar0,om_dm0,om_rad0)*np.sqrt(1+om_k*(Dm(z1,h,om_bar0,om_dm0,om_rad0))**2/c_over_H0**2)-Dm(z1,h,om_bar0,om_dm0,om_rad0)*np.sqrt(1+om_k*(Dm(z2,h,om_bar0,om_dm0,om_rad0))**2/c_over_H0**2))\n",
    "def Dl(z,h,om_bar0,om_dm0,om_rad0):#Distancia de Luminosidad\n",
    "    return Da(z,h,om_bar0,om_dm0,om_rad0)*(1+z)**2"
   ]
  },
  {
   "cell_type": "markdown",
   "metadata": {},
   "source": [
    "\\begin{equation}\n",
    "\\Omega_{M0}=\\Omega_{DM0} + \\Omega_{b0} ??\n",
    "\\end{equation}\n",
    "\n",
    "\\begin{equation}\n",
    "H^2=H_{0}^{2}\\left[\\Omega_{r0}(1+z)^4+(1-\\Omega_{M0}-\\Omega_{r0})(1+z)^{3(1+w_{x})}+\n",
    " \\frac{\\Omega_{M0}}{\\delta+3w_x}\\left[\\delta(1+z)^{3(1+w_x)}+3w_{x}(1+z)^{3-\\delta} \\right] \\right]\n",
    "\\end{equation}"
   ]
  },
  {
   "cell_type": "code",
   "execution_count": 6,
   "metadata": {},
   "outputs": [],
   "source": [
    "#modelos cosmologicos\n",
    "def Hz_i(z,h,om_bar0,om_dm0,om_rad0,wx,delta): #interactuantes\n",
    "    H0=100*h\n",
    "    om_m0=om_bar0+om_dm0\n",
    "    Z=1.0+z\n",
    "    W=1+wx\n",
    "    om_lamb=(1.0-om_rad0-om_m0) #condición de planitud omega lambda \n",
    "    x=np.sqrt(om_rad0*(Z)**4+om_lamb*(Z)**(3*W)+om_m0*(delta*(Z)**(3*W)+3*wx*Z**(3-delta))/(delta+3*wx))\n",
    "    return x*H0"
   ]
  },
  {
   "cell_type": "code",
   "execution_count": 13,
   "metadata": {},
   "outputs": [
    {
     "data": {
      "text/plain": [
       "67.36"
      ]
     },
     "execution_count": 13,
     "metadata": {},
     "output_type": "execute_result"
    }
   ],
   "source": [
    "wx= -0.95\n",
    "delta=0.77\n",
    "Hz_i(0,h,om_bar0,om_dm0,om_rad0,wx,delta)\n",
    "#Hz(1,h,om_bar0,om_dm0,om_rad0)\n"
   ]
  },
  {
   "cell_type": "code",
   "execution_count": 14,
   "metadata": {},
   "outputs": [],
   "source": [
    "bins=50\n",
    "zbin=np.linspace(0,2,bins)\n",
    "#print(zbin)"
   ]
  },
  {
   "cell_type": "code",
   "execution_count": 15,
   "metadata": {},
   "outputs": [],
   "source": [
    "#print(Hzbin)"
   ]
  },
  {
   "cell_type": "markdown",
   "metadata": {},
   "source": [
    "GRaficamos H(z) vs z"
   ]
  },
  {
   "cell_type": "code",
   "execution_count": 16,
   "metadata": {},
   "outputs": [
    {
     "data": {
      "image/png": "[encoded data removed]",
      "text/plain": [
       "<Figure size 432x288 with 1 Axes>"
      ]
     },
     "metadata": {
      "needs_background": "light"
     },
     "output_type": "display_data"
    }
   ],
   "source": [
    "fig1=plt.figure()\n",
    "plt.plot(zbin,Hz(zbin,h,om_bar0,om_dm0,om_rad0))\n",
    "plt.xlabel('z')\n",
    "plt.ylabel('$H(z) km s^{-1} Mpc^{-1}$')\n",
    "plt.show()\n",
    "fig1.savefig(\"Hz.pdf\")"
   ]
  },
  {
   "cell_type": "markdown",
   "metadata": {},
   "source": [
    "Tarea, calcular la edad del Universo. Sugerencia usar la función quad\n",
    "\n",
    "https://docs.scipy.org/doc/scipy/reference/generated/scipy.integrate.quad.html"
   ]
  },
  {
   "cell_type": "code",
   "execution_count": 17,
   "metadata": {},
   "outputs": [
    {
     "data": {
      "image/png": "[encoded data removed]",
      "text/plain": [
       "<Figure size 432x288 with 1 Axes>"
      ]
     },
     "metadata": {
      "needs_background": "light"
     },
     "output_type": "display_data"
    }
   ],
   "source": [
    "\n",
    "fig1=plt.figure()\n",
    "plt.plot(zbin,Hz_i(zbin,h,om_bar0,om_dm0,om_rad0,wx,delta))\n",
    "plt.title('H interactuante vs z')\n",
    "plt.xlabel('z')\n",
    "plt.ylabel('$H(z) km s^{-1} Mpc^{-1}$')\n",
    "plt.show()\n",
    "fig1.savefig(\"Hz.pdf\")"
   ]
  },
  {
   "cell_type": "code",
   "execution_count": null,
   "metadata": {},
   "outputs": [],
   "source": []
  },
  {
   "cell_type": "code",
   "execution_count": 29,
   "metadata": {},
   "outputs": [],
   "source": [
    "#def f(z,h,om_bar0,om_dm0,om_rad0):\n",
    " #   return 1.0/Ez(z,h,om_bar0,om_dm0,om_rad0)\n",
    "\n",
    "#Definición de distancia comóvil\n",
    "\n",
    "#def Dc(z,h,om_bar0,om_dm0,om_rad0):\n",
    " #   return c_over_H0*quad(lambda x:f(x,h,om_bar0,om_dm0,om_rad0),0,z,)[0]\n"
   ]
  },
  {
   "cell_type": "markdown",
   "metadata": {},
   "source": [
    "Graficamos la distancia comóvil como función de z"
   ]
  },
  {
   "cell_type": "markdown",
   "metadata": {},
   "source": [
    "Tarea: \n",
    "\n",
    "1)Definir funciones para calcular la distancia de diámetro angular y disntancia de luminosidad como función de z\n",
    "2)Evaluar dichar funciones para un vector de z de 0 a 2\n",
    "3)Graficar DA vs z y DL vs z"
   ]
  },
  {
   "cell_type": "code",
   "execution_count": 31,
   "metadata": {},
   "outputs": [
    {
     "data": {
      "image/png": "[encoded data removed]",
      "text/plain": [
       "<Figure size 432x288 with 1 Axes>"
      ]
     },
     "metadata": {
      "needs_background": "light"
     },
     "output_type": "display_data"
    }
   ],
   "source": [
    "bins=50\n",
    "zbin=np.linspace(0,2,bins)\n",
    "fig1=plt.figure()\n",
    "plt.plot(zbin,Da(zbin,h,om_bar0,om_dm0,om_rad0))\n",
    "plt.title('Da vs z')\n",
    "plt.xlabel('z')\n",
    "plt.ylabel('$Da(z) Mpc$')\n",
    "plt.show()"
   ]
  },
  {
   "cell_type": "code",
   "execution_count": 32,
   "metadata": {},
   "outputs": [
    {
     "data": {
      "image/png": "[encoded data removed]",
      "text/plain": [
       "<Figure size 432x288 with 1 Axes>"
      ]
     },
     "metadata": {
      "needs_background": "light"
     },
     "output_type": "display_data"
    }
   ],
   "source": [
    "bins=50\n",
    "zbin=np.linspace(0,2,bins)\n",
    "fig1=plt.figure()\n",
    "plt.plot(zbin,Dl(zbin,h,om_bar0,om_dm0,om_rad0))\n",
    "plt.title('Dl vs z')\n",
    "plt.xlabel('z')\n",
    "plt.ylabel('$Dl(z) Mpc$')\n",
    "plt.show()"
   ]
  },
  {
   "cell_type": "code",
   "execution_count": 117,
   "metadata": {},
   "outputs": [],
   "source": [
    "class Cosmology:\n",
    "    \"\"\"A simple example class\"\"\"\n",
    "    def Hz_i(z,h,om_bar0,om_dm0,om_rad0,wx,delta): #interactuantes\n",
    "        H0=100*h\n",
    "        om_m0=om_bar0+om_dm0\n",
    "        Z=1.0+z\n",
    "        W=1+wx\n",
    "        om_lamb=(1.0-om_rad0-om_m0) #condición de planitud omega lambda \n",
    "        x=np.sqrt(om_rad0*(Z)**4+om_lamb*(Z)**(3*W)+om_m0*(delta*(Z)**(3*W)+3*wx*Z**(3-delta))/(delta+3*wx))\n",
    "        return x*H0\n",
    "    def Hz(z,h,om_bar0,om_dm0,om_rad0): #estandar\n",
    "        H0=100*h\n",
    "        Z=1.0+z\n",
    "        om_lamb=(1.0-om_dm0-om_rad0-om_bar0) #condición de planitud omega lambda \n",
    "        x=np.sqrt(om_dm0*(Z)**3+om_bar0*(Z)**3+om_rad0*(Z)**4+om_lamb)\n",
    "        return x*H0\n"
   ]
  },
  {
   "cell_type": "code",
   "execution_count": 33,
   "metadata": {},
   "outputs": [
    {
     "data": {
      "text/plain": [
       "109.79628048899333"
      ]
     },
     "execution_count": 33,
     "metadata": {},
     "output_type": "execute_result"
    }
   ],
   "source": [
    "wx= -0.95\n",
    "delta=0.77\n",
    "Hz_i(1,h,om_bar0,om_dm0,om_rad0,wx,delta)"
   ]
  },
  {
   "cell_type": "code",
   "execution_count": 105,
   "metadata": {},
   "outputs": [
    {
     "data": {
      "text/plain": [
       "67.36"
      ]
     },
     "execution_count": 105,
     "metadata": {},
     "output_type": "execute_result"
    }
   ],
   "source": [
    "class Cosmology:\n",
    "    def Hz_i(z,h,om_bar0,om_dm0,om_rad0,wx,delta): #interactuantes\n",
    "        Z=1.0+z\n",
    "        W=1+wx\n",
    "        om_m0=om_bar0+om_dm0\n",
    "        om_lamb=(1.0-om_rad0-om_m0) #condición de planitud omega lambda \n",
    "        x=H0*np.sqrt(om_rad0*(Z)**4+om_lamb*(Z)**(3*W)+om_m0*(delta*(Z)**(3*W)+3*wx*Z**(3-delta))/(delta+3*wx))\n",
    "        return \n",
    "    def Hz(z,h,om_bar0,om_dm0,om_rad0): #estandar\n",
    "        H0=100*h\n",
    "        Z=1.0+z\n",
    "        om_lamb=(1.0-om_dm0-om_rad0-om_bar0) #condición de planitud omega lambda \n",
    "        x=H0*np.sqrt(om_dm0*(Z)**3+om_bar0*(Z)**3+om_rad0*(Z)**4+om_lamb)\n",
    "        return \n",
    "    \n",
    "    \n",
    "#Cosmology.Hz_i(1,h,om_bar0,om_dm0,om_rad0,wx,delta)['Ez']\n",
    "Cosmology.Hz(0,h,om_bar0,om_dm0,om_rad0)"
   ]
  },
  {
   "cell_type": "code",
   "execution_count": 95,
   "metadata": {},
   "outputs": [
    {
     "data": {
      "text/plain": [
       "67.36"
      ]
     },
     "execution_count": 95,
     "metadata": {},
     "output_type": "execute_result"
    }
   ],
   "source": [
    "Hz(0,h,om_bar0,om_dm0,om_rad0)"
   ]
  },
  {
   "cell_type": "code",
   "execution_count": 67,
   "metadata": {},
   "outputs": [],
   "source": [
    "def Dab(z1,z2,h,om_bar0,om_dm0,om_rad0): #Angular diameter disntace DA12 between two objects at redshifts z1 and z2,\n",
    "    return (1/(1+z2))*(Dm(z2,h,om_bar0,om_dm0,om_rad0)*np.sqrt(1+om_k*(Dm(z1,h,om_bar0,om_dm0,om_rad0))**2/c_over_H0**2)-Dm(z1,h,om_bar0,om_dm0,om_rad0)*np.sqrt(1+om_k*(Dm(z2,h,om_bar0,om_dm0,om_rad0))**2/c_over_H0**2))"
   ]
  },
  {
   "cell_type": "code",
   "execution_count": 112,
   "metadata": {},
   "outputs": [
    {
     "name": "stderr",
     "output_type": "stream",
     "text": [
      "<ipython-input-112-5e015b45d792>:8: IntegrationWarning: The maximum number of subdivisions (50) has been achieved.\n",
      "  If increasing the limit yields no improvement it is advised to analyze \n",
      "  the integrand in order to determine the difficulties.  If the position of a \n",
      "  local difficulty can be determined (singularity, discontinuity) one will \n",
      "  probably gain from splitting up the interval and calling the integrator \n",
      "  on the subranges.  Perhaps a special-purpose integrator should be used.\n",
      "  tc=quad(lambda x:1.0/(x/H0)/(x+1), 0, z)[0]\n"
     ]
    },
    {
     "data": {
      "text/plain": [
       "{'huble': 120.61739642542979,\n",
       " 'Ez': 1.7906383079784707,\n",
       " 'f': 0.5584600728937512,\n",
       " 'Dc': 2485.4789514988643,\n",
       " 'tL': 40.98369349482808,\n",
       " 'Da': 1242.7394757494321,\n",
       " 'dl': 4970.9579029977285}"
      ]
     },
     "execution_count": 112,
     "metadata": {},
     "output_type": "execute_result"
    }
   ],
   "source": [
    "def Calculo(z,h,om_bar0,om_dm0,om_rad0,x): #interactuantes\n",
    "        th=1/(100*h)\n",
    "        H0=100*h\n",
    "        #lookback time tL/#The total line-of-sight comoving distance dc\n",
    "        if type(z)==int or type(z)==float or type(z)==np.float64:\n",
    "            Dc=quad(lambda I:H0/x, 0, z)[0]\n",
    "            #x:f(x,h,om_bar0,om_dm0,om_rad0)/(x+1)\n",
    "            tc=quad(lambda x:1.0/(x/H0)/(x+1), 0, z)[0]\n",
    "        else:\n",
    "            Dc=np.array([])\n",
    "            tc=np.array([])\n",
    "            for i in range(len(z)):\n",
    "                Dc=np.append(Dc,quad(lambda x:H0/(x[i]), 0, z[i])[0])\n",
    "                tc=np.append(tc,quad(lambda x:1.0/(x[i]/H0)/(y+1), 0, z[i])[0])                \n",
    "        #dm Comoving distance transverse \n",
    "        if om_k>0:\n",
    "            D_m=c_over_H0*(om_k)**(-0.5)*np.sinh((om_k)**(0.5)*c_over_H0*Dc/c_over_H0)\n",
    "        elif om_k==0:\n",
    "            D_m=c_over_H0*Dc     \n",
    "        else:\n",
    "            D_m=c_over_H0*(abs(om_k))**(-0.5)*np.sinh((abs(om_k))**(0.5)*c_over_H0*Dc/c_over_H0)\n",
    "        Da=D_m/(1+z) #ANGULAR DISTANCE \n",
    "        dl=Da*(1+z)**2 #Distancia de Luminosidad\n",
    "        return {'huble':x,'Ez':x/H0,'f':1.0/(x/H0),'Dc':c_over_H0*Dc,'tL':th*tc,'Da':Da,'dl':dl}\n",
    "Calculo(1,h,om_bar0,om_dm0,om_rad0,Cosmology.Hz(1,h,om_bar0,om_dm0,om_rad0))"
   ]
  },
  {
   "cell_type": "code",
   "execution_count": 107,
   "metadata": {},
   "outputs": [
    {
     "data": {
      "text/plain": [
       "3402.949023150786"
      ]
     },
     "execution_count": 107,
     "metadata": {},
     "output_type": "execute_result"
    }
   ],
   "source": [
    "Dc(1,h,om_bar0,om_dm0,om_rad0)"
   ]
  },
  {
   "cell_type": "code",
   "execution_count": null,
   "metadata": {},
   "outputs": [],
   "source": [
    "def Hz(z,h,om_bar0,om_dm0,om_rad0): #estandar\n",
    "        H0=100*h\n",
    "        c_over_H0=c*kmtoMpc/H0s\n",
    "        th=1/(100*h) #tiempo de hubble\n",
    "        print(c_over_H0)\n",
    "        Z=1.0+z\n",
    "        om_lamb=(1.0-om_dm0-om_rad0-om_bar0) #condición de planitud omega lambda \n",
    "        x=np.sqrt(om_dm0*(Z)**3+om_bar0*(Z)**3+om_rad0*(Z)**4+om_lamb)\n",
    "        #lookback time tL/#The total line-of-sight comoving distance dc\n",
    "        if type(z)==int or type(z)==float or type(z)==np.float64:\n",
    "            Dc=c_over_H0*quad(lambda z:H0/x, 0, z)[0]\n",
    "            #x:f(x,h,om_bar0,om_dm0,om_rad0)/(x+1)\n",
    "            tc=quad(lambda y:1.0/(x/H0)/(y+1), 0, z)[0]\n",
    "        else:\n",
    "            Dc=np.array([])\n",
    "            tc=np.array([])\n",
    "            for i in range(len(z)):\n",
    "                Dc=np.append(Dc,c_over_H0*quad(lambda O:H0/(x[i]), 0, z[i])[0])\n",
    "                tc=np.append(tc,quad(lambda y:1.0/(x[i]/H0)/(y+1), 0, z[i])[0])                \n",
    "        #dm Comoving distance transverse \n",
    "        if om_k>0:\n",
    "            D_m=c_over_H0*(om_k)**(-0.5)*np.sinh((om_k)**(0.5)*c_over_H0*Dc/c_over_H0)\n",
    "        elif om_k==0:\n",
    "            D_m=c_over_H0*Dc     \n",
    "        else:\n",
    "            D_m=c_over_H0*(abs(om_k))**(-0.5)*np.sinh((abs(om_k))**(0.5)*c_over_H0*Dc/c_over_H0)\n",
    "        Da=D_m/(1+z) #ANGULAR DISTANCE \n",
    "        dl=Da*(1+z)**2 #Distancia de Luminosidad\n",
    "        return {'huble':x*H0,'Ez':x/H0,'f':1.0/(x/H0),'Dc':Dc,'tL':th*tc,'Da':Da,'dl':dl}\n",
    "    "
   ]
  }
 ],
 "metadata": {
  "celltoolbar": "Raw Cell Format",
  "kernelspec": {
   "display_name": "Python 3",
   "language": "python",
   "name": "python3"
  },
  "language_info": {
   "codemirror_mode": {
    "name": "ipython",
    "version": 3
   },
   "file_extension": ".py",
   "mimetype": "text/x-python",
   "name": "python",
   "nbconvert_exporter": "python",
   "pygments_lexer": "ipython3",
   "version": "3.8.5"
  }
 },
 "nbformat": 4,
 "nbformat_minor": 2
}
