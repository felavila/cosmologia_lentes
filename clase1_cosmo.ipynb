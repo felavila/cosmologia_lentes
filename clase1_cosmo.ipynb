{
 "cells": [
  {
   "cell_type": "code",
   "execution_count": 1,
   "metadata": {},
   "outputs": [],
   "source": [
    "import numpy as np\n",
    "from scipy.integrate import quad\n",
    "import matplotlib.pyplot as plt\n",
    "from matplotlib.ticker import MaxNLocator"
   ]
  },
  {
   "cell_type": "markdown",
   "metadata": {},
   "source": [
    "Parámetros cosmológicos"
   ]
  },
  {
   "cell_type": "code",
   "execution_count": 26,
   "metadata": {},
   "outputs": [
    {
     "name": "stdout",
     "output_type": "stream",
     "text": [
      "0.315\n"
     ]
    },
    {
     "data": {
      "text/plain": [
       "4450.593824228029"
      ]
     },
     "execution_count": 26,
     "metadata": {},
     "output_type": "execute_result"
    }
   ],
   "source": [
    "neff0=3.04 # número efectivo de especies relativista\n",
    "h=.6736 #H0/100 km/s/Mpc\n",
    "om_bar0=0.051 #parámetro de densidad bariónico a z=0\n",
    "om_dm0=0.264 #parámetro de densidad de materia oscura a z=0\n",
    "om_lam0=0.68 #parámetro de densidad de constante cosmológica a z=0\n",
    "om_rad0=9.237e-05 #parámetro de densidad de radiación a z=0\n",
    "\n",
    "print(om_bar0+om_dm0)\n",
    "c=299792 #km/s #velocidad de la luz\n",
    "kmtoMpc=3.2408e-20 #factor de conversión de km a Mpc\n",
    "H0s=(h*100)*kmtoMpc\n",
    "c_over_H0=c*kmtoMpc/H0s #c/H0\n",
    "c_over_H0"
   ]
  },
  {
   "cell_type": "markdown",
   "metadata": {},
   "source": [
    "Definimos la ecuación de Friedmann para un Universo plano con materia oscura, materia bariónica, radiación y constante cosmológica\n",
    "\n",
    "\\begin{equation}\n",
    "H^2=\\frac{8 \\pi G}{3}\\left(\\rho_{DM} + \\rho_{b} + \\rho_{r} + \\rho_{\\Lambda} \\right),\n",
    "\\label{eq:FC}\n",
    "\\end{equation}\n",
    "\n",
    "\n",
    "\\begin{eqnarray}\n",
    "{\\dot\\rho_{DM}}& + &3\\,H \\rho_{DM}=0,\\\\\n",
    "{\\dot\\rho_{b}}& + &3\\,H \\rho_{b}=0,\\\\\n",
    "{\\dot\\rho_{r}}& + &4\\,H \\rho_{r}=0,\\\\\n",
    "{\\dot\\rho_{\\Lambda}}&=&0.\n",
    "\\end{eqnarray}\n",
    "\n",
    "Si no consideramos neutrinos, la Ec. de Friedmann en término de los parámetros de densidad y redshift\n",
    "\n",
    "\\begin{equation}\n",
    "H^2=H_{0}^{2}\\left[\\Omega_{DM0}(1+z)^3 + \\Omega_{b0}(1+z)^3 + \\Omega_{r0}(1+z)^4+ \\Omega_{\\Lambda} \\right]\n",
    "\\end{equation}\n",
    "\n",
    "Podemos usar la condición de planitud para $\\Omega_{\\Lambda}=1-\\Omega_{DM0}-\\Omega_{b0}-\\Omega_{r0}$"
   ]
  },
  {
   "cell_type": "code",
   "execution_count": 3,
   "metadata": {},
   "outputs": [],
   "source": [
    "def Hz(z,h,om_bar0,om_dm0,om_rad0):\n",
    "    H0=100*h\n",
    "    z1=1.0+z\n",
    "    z13=np.power(z1,3.)\n",
    "    z14=np.power(z1,4.)\n",
    "    OMAT=(om_bar0+om_dm0)*z13\n",
    "    ORAD=om_rad0*z14\n",
    "    x=np.sqrt(OMAT +ORAD +(1.0-om_dm0-om_rad0-om_bar0))\n",
    "    return x*H0\n",
    "\n",
    "def Ez(z,h,om_bar0,om_dm0,om_rad0):\n",
    "    z1=1.0+z\n",
    "    z13=np.power(z1,3.)\n",
    "    z14=np.power(z1,4.)\n",
    "    OMAT=(om_bar0+om_dm0)*z13\n",
    "    ORAD=om_rad0*z14\n",
    "    x=np.sqrt(OMAT +ORAD +(1.0-om_dm0-om_rad0-om_bar0))\n",
    "    return x"
   ]
  },
  {
   "cell_type": "code",
   "execution_count": null,
   "metadata": {},
   "outputs": [],
   "source": []
  },
  {
   "cell_type": "code",
   "execution_count": 4,
   "metadata": {},
   "outputs": [],
   "source": [
    "Hz0=Ez(0,h,om_bar0,om_dm0,om_rad0)"
   ]
  },
  {
   "cell_type": "code",
   "execution_count": 5,
   "metadata": {},
   "outputs": [
    {
     "name": "stdout",
     "output_type": "stream",
     "text": [
      "1.0\n"
     ]
    }
   ],
   "source": [
    "print(Hz0)"
   ]
  },
  {
   "cell_type": "code",
   "execution_count": 6,
   "metadata": {},
   "outputs": [],
   "source": [
    "bins=50\n",
    "zbin=np.linspace(0,2,bins)\n",
    "#print(zbin)"
   ]
  },
  {
   "cell_type": "code",
   "execution_count": 7,
   "metadata": {},
   "outputs": [],
   "source": [
    "Hzbin=np.zeros(bins)"
   ]
  },
  {
   "cell_type": "code",
   "execution_count": 8,
   "metadata": {},
   "outputs": [],
   "source": [
    "for i in range(len(zbin)):\n",
    "    Hzbin[i]=Hz(zbin[i],h,om_bar0,om_dm0,om_rad0)"
   ]
  },
  {
   "cell_type": "code",
   "execution_count": 9,
   "metadata": {},
   "outputs": [],
   "source": [
    "#print(Hzbin)"
   ]
  },
  {
   "cell_type": "markdown",
   "metadata": {},
   "source": [
    "GRaficamos H(z) vs z"
   ]
  },
  {
   "cell_type": "code",
   "execution_count": 10,
   "metadata": {},
   "outputs": [
    {
     "data": {
      "image/png": "[encoded data removed]",
      "text/plain": [
       "<Figure size 432x288 with 1 Axes>"
      ]
     },
     "metadata": {
      "needs_background": "light"
     },
     "output_type": "display_data"
    }
   ],
   "source": [
    "fig1=plt.figure()\n",
    "plt.plot(zbin,Hzbin)\n",
    "plt.xlabel('z')\n",
    "plt.ylabel('$H(z) km s^{-1} Mpc^{-1}$')\n",
    "plt.show()\n",
    "fig1.savefig(\"Hz.pdf\")"
   ]
  },
  {
   "cell_type": "markdown",
   "metadata": {},
   "source": [
    "Tarea, calcular la edad del Universo. Sugerencia usar la función quad\n",
    "\n",
    "https://docs.scipy.org/doc/scipy/reference/generated/scipy.integrate.quad.html\n",
    "\n",
    "Distancia comóvil\n",
    "\\begin{equation}\n",
    "D_{C}(z)=D_{H}\\int^{0}_{z}\\frac{dz^{\\prime}}{E(z^{\\prime})}\n",
    "\\end{equation}"
   ]
  },
  {
   "cell_type": "code",
   "execution_count": 11,
   "metadata": {},
   "outputs": [],
   "source": [
    "def f(z,h,om_bar0,om_dm0,om_rad0):\n",
    "    return 1.0/Ez(z,h,om_bar0,om_dm0,om_rad0)\n",
    "\n",
    "#Definición de distancia comóvil\n",
    "\n",
    "def Dc(z,h,om_bar0,om_dm0,om_rad0):\n",
    "    return c_over_H0*quad(lambda x:f(x,h,om_bar0,om_dm0,om_rad0),0,z)[0]\n"
   ]
  },
  {
   "cell_type": "code",
   "execution_count": 12,
   "metadata": {},
   "outputs": [],
   "source": [
    "Dcbin=np.zeros(bins)\n",
    "for i in range(len(zbin)):\n",
    "    Dcbin[i]=Dc(zbin[i],h,om_bar0,om_dm0,om_rad0)"
   ]
  },
  {
   "cell_type": "markdown",
   "metadata": {},
   "source": [
    "Graficamos la distancia comóvil como función de z"
   ]
  },
  {
   "cell_type": "code",
   "execution_count": 13,
   "metadata": {},
   "outputs": [
    {
     "data": {
      "image/png": "[encoded data removed]",
      "text/plain": [
       "<Figure size 432x288 with 1 Axes>"
      ]
     },
     "metadata": {
      "needs_background": "light"
     },
     "output_type": "display_data"
    }
   ],
   "source": [
    "fig1=plt.figure()\n",
    "plt.plot(zbin,Dcbin)\n",
    "plt.xlabel('z')\n",
    "plt.ylabel('$Dc(z) Mpc$')\n",
    "plt.show()\n",
    "fig1.savefig(\"DC.pdf\")"
   ]
  },
  {
   "cell_type": "markdown",
   "metadata": {},
   "source": [
    "Tarea: \n",
    "\n",
    "1)Definir funciones para calcular la distancia de diámetro angular y disntancia de luminosidad como función de z\n",
    "2)Evaluar dichar funciones para un vector de z de 0 a 2\n",
    "3)Graficar DA vs z y DL vs z"
   ]
  },
  {
   "cell_type": "markdown",
   "metadata": {},
   "source": [
    "\\begin{equation}\n",
    "D_{A}(z)=\\frac{D_{H}}{1+z}\\int^{0}_{z}\\frac{dz^{\\prime}}{E(z^{\\prime})}\n",
    "\\end{equation}\n",
    "\n",
    "\\begin{equation}\n",
    "D_{A}(z_1,z_2)=\\frac{D_{H}}{1+z_2}\\int^{z2}_{z1}\\frac{dz}{E(z)}\n",
    "\\end{equation}"
   ]
  },
  {
   "cell_type": "code",
   "execution_count": 14,
   "metadata": {},
   "outputs": [],
   "source": [
    "def DA(z,h,om_bar0,om_dm0,om_rad0):\n",
    "    return (1/(1+z))*Dc(z,h,om_bar0,om_dm0,om_rad0)\n",
    "\n",
    "def DA12(z1,z2,h,om_bar0,om_dm0,om_rad0):\n",
    "    return (c_over_H0/(1+z2))*quad(lambda x:f(x,h,om_bar0,om_dm0,om_rad0),z1,z2)[0]"
   ]
  },
  {
   "cell_type": "code",
   "execution_count": 15,
   "metadata": {},
   "outputs": [],
   "source": [
    "DAbin=np.zeros(bins)\n",
    "for i in range(len(zbin)):\n",
    "    DAbin[i]=DA(zbin[i],h,om_bar0,om_dm0,om_rad0)"
   ]
  },
  {
   "cell_type": "code",
   "execution_count": 21,
   "metadata": {},
   "outputs": [
    {
     "data": {
      "image/png": "[encoded data removed]",
      "text/plain": [
       "<Figure size 432x288 with 1 Axes>"
      ]
     },
     "metadata": {
      "needs_background": "light"
     },
     "output_type": "display_data"
    }
   ],
   "source": [
    "fig2=plt.figure()\n",
    "plt.plot(zbin,DAbin)\n",
    "plt.xlabel('z')\n",
    "plt.ylabel('$DA(z) Mpc$')\n",
    "plt.show()\n",
    "fig2.savefig(\"DA.pdf\")"
   ]
  },
  {
   "cell_type": "code",
   "execution_count": 22,
   "metadata": {},
   "outputs": [],
   "source": [
    "def DL(z,h,om_bar0,om_dm0,om_rad0):\n",
    "    return (1+z)*Dc(z,h,om_bar0,om_dm0,om_rad0)\n"
   ]
  },
  {
   "cell_type": "code",
   "execution_count": 18,
   "metadata": {},
   "outputs": [],
   "source": [
    "DLbin=np.zeros(bins)\n",
    "for i in range(len(zbin)):\n",
    "    DLbin[i]=DL(zbin[i],h,om_bar0,om_dm0,om_rad0)"
   ]
  },
  {
   "cell_type": "code",
   "execution_count": 23,
   "metadata": {},
   "outputs": [
    {
     "data": {
      "image/png": "[encoded data removed]",
      "text/plain": [
       "<Figure size 432x288 with 1 Axes>"
      ]
     },
     "metadata": {
      "needs_background": "light"
     },
     "output_type": "display_data"
    }
   ],
   "source": [
    "fig3=plt.figure()\n",
    "plt.plot(zbin,DLbin)\n",
    "plt.xlabel('z')\n",
    "plt.ylabel('$DL(z) Mpc$')\n",
    "plt.show()\n",
    "fig3.savefig(\"DL.pdf\")"
   ]
  },
  {
   "cell_type": "code",
   "execution_count": 24,
   "metadata": {},
   "outputs": [
    {
     "data": {
      "image/png": "[encoded data removed]",
      "text/plain": [
       "<Figure size 432x288 with 1 Axes>"
      ]
     },
     "metadata": {
      "needs_background": "light"
     },
     "output_type": "display_data"
    }
   ],
   "source": [
    "fig4=plt.figure()\n",
    "plt.plot(zbin,DLbin, label='DL')\n",
    "plt.plot(zbin,DAbin, label='DA')\n",
    "plt.plot(zbin,Dcbin, label='DC')\n",
    "plt.xlabel('z')\n",
    "plt.ylabel('$Distance(z) Mpc$')\n",
    "plt.legend()\n",
    "fig4.savefig(\"Distances.pdf\")"
   ]
  },
  {
   "cell_type": "code",
   "execution_count": null,
   "metadata": {},
   "outputs": [],
   "source": []
  }
 ],
 "metadata": {
  "kernelspec": {
   "display_name": "Python 3",
   "language": "python",
   "name": "python3"
  },
  "language_info": {
   "codemirror_mode": {
    "name": "ipython",
    "version": 3
   },
   "file_extension": ".py",
   "mimetype": "text/x-python",
   "name": "python",
   "nbconvert_exporter": "python",
   "pygments_lexer": "ipython3",
   "version": "3.7.4"
  }
 },
 "nbformat": 4,
 "nbformat_minor": 2
}
