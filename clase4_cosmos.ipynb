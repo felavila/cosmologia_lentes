{
 "cells": [
  {
   "cell_type": "code",
   "execution_count": 1,
   "metadata": {},
   "outputs": [],
   "source": [
    "import numpy as np\n",
    "from scipy.integrate import quad\n",
    "import matplotlib.pyplot as plt\n",
    "from matplotlib.ticker import MaxNLocator"
   ]
  },
  {
   "cell_type": "markdown",
   "metadata": {},
   "source": [
    "Parámetros cosmológicos"
   ]
  },
  {
   "cell_type": "code",
   "execution_count": 2,
   "metadata": {},
   "outputs": [
    {
     "name": "stdout",
     "output_type": "stream",
     "text": [
      "0.315\n"
     ]
    },
    {
     "data": {
      "text/plain": [
       "4450.593824228029"
      ]
     },
     "execution_count": 2,
     "metadata": {},
     "output_type": "execute_result"
    }
   ],
   "source": [
    "neff0=3.04 # número efectivo de especies relativista\n",
    "h=.6736 #H0/100 km/s/Mpc\n",
    "om_bar0=0.051 #parámetro de densidad bariónico a z=0\n",
    "om_dm0=0.264 #parámetro de densidad de materia oscura a z=0\n",
    "om_lam0=0.68 #parámetro de densidad de constante cosmológica a z=0\n",
    "om_rad0=9.237e-05 #parámetro de densidad de radiación a z=0\n",
    "\n",
    "print(om_bar0+om_dm0)\n",
    "c=299792 #km/s #velocidad de la luz\n",
    "kmtoMpc=3.2408e-20 #factor de conversión de km a Mpc\n",
    "H0=h*100\n",
    "H0s=(H0)*kmtoMpc\n",
    "c_over_H0=c*kmtoMpc/H0s #c/H0\n",
    "c_over_H0"
   ]
  },
  {
   "cell_type": "markdown",
   "metadata": {},
   "source": [
    "Definimos la ecuación de Friedmann para un Universo plano con materia oscura, materia bariónica, radiación y constante cosmológica (modelo estándar)\n",
    "\n",
    "\\begin{equation}\n",
    "H^2=\\frac{8 \\pi G}{3}\\left(\\rho_{DM} + \\rho_{b} + \\rho_{r} + \\rho_{\\Lambda} \\right),\n",
    "\\label{eq:FC}\n",
    "\\end{equation}\n",
    "\n",
    "\n",
    "\\begin{eqnarray}\n",
    "{\\dot\\rho_{DM}}& + &3\\,H \\rho_{DM}=0,\\\\\n",
    "{\\dot\\rho_{b}}& + &3\\,H \\rho_{b}=0,\\\\\n",
    "{\\dot\\rho_{r}}& + &4\\,H \\rho_{r}=0,\\\\\n",
    "{\\dot\\rho_{\\Lambda}}&=&0.\n",
    "\\end{eqnarray}\n",
    "\n",
    "Si no consideramos neutrinos, la Ec. de Friedmann en término de los parámetros de densidad y redshift\n",
    "\n",
    "\\begin{equation}\n",
    "H^2=H_{0}^{2}\\left[\\Omega_{DM0}(1+z)^3 + \\Omega_{b0}(1+z)^3 + \\Omega_{r0}(1+z)^4+ \\Omega_{\\Lambda} \\right]\n",
    "\\end{equation}\n",
    "\n",
    "Podemos usar la condición de planitud para $\\Omega_{\\Lambda}=1-\\Omega_{DM0}-\\Omega_{b0}-\\Omega_{r0}$"
   ]
  },
  {
   "cell_type": "markdown",
   "metadata": {},
   "source": [
    "Distancia comóvil\n",
    "\\begin{equation}\n",
    "D_{C}(z)=D_{H}\\int^{0}_{z}\\frac{dz^{\\prime}}{E(z^{\\prime})}\n",
    "\\end{equation}\n",
    "\n",
    "Distancias de diámetro angular\n",
    "\\begin{equation}\n",
    "D_{A}(z)=\\frac{D_{H}}{1+z}\\int^{0}_{z}\\frac{dz^{\\prime}}{E(z^{\\prime})}\n",
    "\\end{equation}\n",
    "\n",
    "\\begin{equation}\n",
    "D_{A}(z_1,z_2)=\\frac{D_{H}}{1+z_2}\\int^{z2}_{z1}\\frac{dz}{E(z)}\n",
    "\\end{equation}"
   ]
  },
  {
   "cell_type": "markdown",
   "metadata": {},
   "source": [
    "Modelos cosmologicos"
   ]
  },
  {
   "cell_type": "code",
   "execution_count": 3,
   "metadata": {},
   "outputs": [],
   "source": [
    "def HzLCDMmodel(z,*param):\n",
    "    H0=100*param[0]\n",
    "    z1=1.0+z\n",
    "    z13=np.power(z1,3.)\n",
    "    z14=np.power(z1,4.)\n",
    "    OMAT=(param[1]+param[2])*z13\n",
    "    ORAD=param[3]*z14\n",
    "    ODE=1.0-param[1]-param[2]-param[3]\n",
    "    x=np.sqrt(OMAT +ORAD + ODE)\n",
    "    return x*H0\n",
    "\n",
    "Npar=4\n",
    "parlcdm=np.zeros(Npar)\n",
    "parlcdm[0]=h\n",
    "parlcdm[1]=om_bar0\n",
    "parlcdm[2]=om_dm0\n",
    "parlcdm[3]=om_rad0"
   ]
  },
  {
   "cell_type": "code",
   "execution_count": 8,
   "metadata": {},
   "outputs": [],
   "source": [
    "# LCDM\n",
    "\n",
    "\n",
    "def Ezmodel(z,*param):\n",
    "    #H0=100*param[0]\n",
    "    z1=1.0+z\n",
    "    z13=np.power(z1,3.)\n",
    "    z14=np.power(z1,4.)\n",
    "    OMAT=(param[1]+param[2])*z13\n",
    "    ORAD=param[3]*z14\n",
    "    ODE=1.0-param[1]-param[2]-param[3]\n",
    "    x=np.sqrt(OMAT +ORAD + ODE)\n",
    "    return x\n",
    "\n",
    "\n",
    "Npar=4\n",
    "par=np.zeros(Npar)\n",
    "par[0]=h\n",
    "par[1]=om_bar0\n",
    "par[2]=om_dm0\n",
    "par[3]=om_rad0"
   ]
  },
  {
   "cell_type": "code",
   "execution_count": 94,
   "metadata": {},
   "outputs": [],
   "source": [
    "# wCDM\n",
    "w=-1.2 #param[4]\n",
    "Npar=5\n",
    "\n",
    "def Ezmodel(z,*param):\n",
    "    \" param[0]->h\"\n",
    "    \" param[1]->Om_bar\"\n",
    "    #H0=100*param[0]\n",
    "    z1=1.0+z\n",
    "    z13=np.power(z1,3.)\n",
    "    z14=np.power(z1,4.)\n",
    "    OMAT=(param[1]+param[2])*z13\n",
    "    ORAD=param[3]*z14\n",
    "    ODE=1.0-param[1]-param[2]-param[3]\n",
    "    fde=np.power(z1,3+param[4])\n",
    "    x=np.sqrt(OMAT +ORAD +ODE*fde)\n",
    "    return x\n",
    "\n",
    "def Hzmodel(z,*param):\n",
    "    H0=100*param[0]\n",
    "    return H0*Ezmodel(z,*param)\n",
    "\n",
    "par=np.zeros(Npar)\n",
    "par[0]=h\n",
    "par[1]=om_bar0\n",
    "par[2]=om_dm0\n",
    "par[3]=om_rad0\n",
    "par[4]=w"
   ]
  },
  {
   "cell_type": "code",
   "execution_count": 99,
   "metadata": {},
   "outputs": [],
   "source": [
    "# CPL\n",
    "\n",
    "Npar=6\n",
    "w0=-0.82 #param[4]\n",
    "w1=-1.5 #param[5]\n",
    "\n",
    "def Ezmodel(z,*param):\n",
    "    #if namemodel='LCDM'\n",
    "    #H0=100*param[0]\n",
    "    z1=1.0+z\n",
    "    z13=np.power(z1,3.)\n",
    "    z14=np.power(z1,4.)\n",
    "    OMAT=(param[1]+param[2])*z13\n",
    "    ORAD=param[3]*z14\n",
    "    ODE=1.0-param[1]-param[2]-param[3]\n",
    "    fde=np.power(z1,3+param[4]+param[5])*np.exp(-3*param[5]*z/z1)\n",
    "    x=np.sqrt(OMAT +ORAD +ODE*fde)\n",
    "    return x\n",
    "\n",
    "\n",
    "\n",
    "\n",
    "par=np.zeros(Npar)\n",
    "par[0]=h\n",
    "par[1]=om_bar0\n",
    "par[2]=om_dm0\n",
    "par[3]=om_rad0\n",
    "par[4]=w0\n",
    "par[5]=w1"
   ]
  },
  {
   "cell_type": "code",
   "execution_count": 96,
   "metadata": {},
   "outputs": [],
   "source": [
    "# JBP\n",
    "w0=-0.70 #param[4]\n",
    "w1=-4.4 #param[5]\n",
    "Npar=6\n",
    "\n",
    "def Ezmodel(z,*param):\n",
    "    H0=100*param[0]\n",
    "    z1=1.0+z\n",
    "    z12=np.power(z1,2.)\n",
    "    z13=np.power(z1,3.)\n",
    "    z14=np.power(z1,4.)\n",
    "    OMAT=(param[1]+param[2])*z13\n",
    "    ORAD=param[3]*z14\n",
    "    ODE=1.0-param[1]-param[2]-param[3]\n",
    "    fde=np.power(z1,3+param[4])*np.exp(1.5*param[5]*z*z/z12)\n",
    "    x=np.sqrt(OMAT +ORAD +ODE*fde)\n",
    "    return x\n",
    "\n",
    "par=np.zeros(Npar)\n",
    "par[0]=h\n",
    "par[1]=om_bar0\n",
    "par[2]=om_dm0\n",
    "par[3]=om_rad0\n",
    "par[4]=w0\n",
    "par[5]=w1\n"
   ]
  },
  {
   "cell_type": "code",
   "execution_count": 97,
   "metadata": {},
   "outputs": [],
   "source": [
    "# BA\n",
    "w0=-0.78 #param[4]\n",
    "w1=-3.24 #param[5]\n",
    "Npar=6\n",
    "\n",
    "def Ezmodel(z,*param):\n",
    "    #H0=100*param[0]\n",
    "    z1=1.0+z\n",
    "    z12=np.power(z1,2.)\n",
    "    z13=np.power(z1,3.)\n",
    "    z14=np.power(z1,4.)\n",
    "    OMAT=(param[1]+param[2])*z13\n",
    "    ORAD=param[3]*z14\n",
    "    ODE=1.0-param[1]-param[2]-param[3]\n",
    "    fde=np.power(z1,3+param[4])*np.power(1.+z**2,1.5*param[5])\n",
    "    x=np.sqrt(OMAT +ORAD +ODE*fde)\n",
    "    return x\n",
    "\n",
    "\n",
    "par=np.zeros(Npar)\n",
    "par[0]=h\n",
    "par[1]=om_bar0\n",
    "par[2]=om_dm0\n",
    "par[3]=om_rad0\n",
    "par[4]=w0\n",
    "par[5]=w1"
   ]
  },
  {
   "cell_type": "code",
   "execution_count": 71,
   "metadata": {},
   "outputs": [],
   "source": [
    "# Interactuacte\n",
    "wx=-0.95 #param[4]\n",
    "delta=0.77 #param[5]\n",
    "Npar=6\n",
    "\n",
    "def Ezmodel(z,*param):\n",
    "    H0=100*param[0]\n",
    "    z1=1.0+z\n",
    "    z13w=np.power(z1,3.*(1.0+param[4]))\n",
    "    z14=np.power(z1,4.)\n",
    "    OMAT0=param[1]+param[2]\n",
    "    ORAD=param[3]*z14\n",
    "    ODE=1.0-OMAT0-param[3]\n",
    "    f1=OMAT0/(param[5]+3.*param[4])\n",
    "    f2=param[5]*z13w + 3.0*param[4]*np.power(z1,3.-param[5])\n",
    "    x=np.sqrt(ORAD +ODE*z13w+ f1*f2 )\n",
    "    return x\n",
    "\n",
    "\n",
    "par=np.zeros(Npar)\n",
    "par[0]=h\n",
    "par[1]=om_bar0\n",
    "par[2]=om_dm0\n",
    "par[3]=om_rad0\n",
    "par[4]=wx\n",
    "par[5]=delta"
   ]
  },
  {
   "cell_type": "code",
   "execution_count": 98,
   "metadata": {},
   "outputs": [
    {
     "name": "stdout",
     "output_type": "stream",
     "text": [
      "par4 -0.19\n",
      "3.0078293039863606\n",
      "par4 -0.19\n",
      "3.0078293039863606\n",
      "par4 0.0\n",
      "3.0842311797269675\n"
     ]
    }
   ],
   "source": [
    "# Cardassiano\n",
    "n=-0.19 #param[4]\n",
    "Npar=5\n",
    "\n",
    "def Ezmodel(z,*param):\n",
    "    print('par4',param[4])\n",
    "    #H0=100*param[0]\n",
    "    z1=1.0+z\n",
    "    z13=np.power(z1,3.)\n",
    "    z14=np.power(z1,4.)\n",
    "    OMAT0=param[1]+param[2]\n",
    "    OMAT=OMAT0*z13\n",
    "    ORAD=param[3]*z14\n",
    "    ODE=1.0-OMAT0-param[3]\n",
    "    OMSTD=OMAT+ORAD\n",
    "    x=OMSTD/(OMAT0+param[3])\n",
    "    fde=np.power(x,param[4])\n",
    "    y=np.sqrt(OMSTD +fde )\n",
    "    return y\n",
    "\n",
    "\n",
    "par=np.zeros(Npar)\n",
    "par2=np.zeros(Npar)\n",
    "\n",
    "par[0]=h\n",
    "par[1]=om_bar0\n",
    "par[2]=om_dm0\n",
    "par[3]=om_rad0\n",
    "par[4]=n\n",
    "\n",
    "par2[0]=h\n",
    "par2[1]=om_bar0\n",
    "par2[2]=om_dm0\n",
    "par2[3]=om_rad0\n",
    "#par2[4]=n\n",
    "\n",
    "print(Ezmodel(2,*par))\n",
    "print(Ezmodel(2,h,om_bar0, om_dm0, om_rad0,n))\n",
    "print(Ezmodel(2,*par2,n))"
   ]
  },
  {
   "cell_type": "code",
   "execution_count": 9,
   "metadata": {},
   "outputs": [],
   "source": [
    "\n",
    "def fmodel(z,*param):\n",
    "    return 1.0/Ezmodel(z,*param)\n",
    "\n",
    "def Dc(z,*param):\n",
    "    return c_over_H0*quad(lambda x:fmodel(x,*param),0,z)[0]\n",
    "\n",
    "def DA(z,*param):\n",
    "    return (1/(1+z))*Dc(z,*param)\n",
    "\n",
    "def DA12(z1,z2,*param):\n",
    "    return (c_over_H0/(1+z2))*quad(lambda x:fmodel(x,*param),z1,z2)[0]\n",
    "\n",
    "def DL(z,*param):\n",
    "    return (1+z)*Dc(z,*param)"
   ]
  },
  {
   "cell_type": "code",
   "execution_count": 15,
   "metadata": {},
   "outputs": [
    {
     "name": "stdout",
     "output_type": "stream",
     "text": [
      "0.5584600728937512\n",
      "1701.474511575393\n"
     ]
    }
   ],
   "source": [
    "print(fmodel(1,*par))\n",
    "print(DA(1,*par))"
   ]
  },
  {
   "cell_type": "code",
   "execution_count": 101,
   "metadata": {},
   "outputs": [],
   "source": [
    "bins=50\n",
    "zbin=np.linspace(0,2,bins)\n",
    "#print(zbin)"
   ]
  },
  {
   "cell_type": "code",
   "execution_count": 102,
   "metadata": {},
   "outputs": [],
   "source": [
    "Hzbin=np.zeros(bins)\n",
    "HzLCDMbin=np.zeros(bins)"
   ]
  },
  {
   "cell_type": "code",
   "execution_count": 103,
   "metadata": {},
   "outputs": [],
   "source": [
    "for i in range(len(zbin)):\n",
    "    Hzbin[i]=HzLCDMmodel(zbin[i],*par)\n",
    "    HzLCDMbin[i]=H0*Ezmodel(zbin[i],*par)"
   ]
  },
  {
   "cell_type": "code",
   "execution_count": 104,
   "metadata": {},
   "outputs": [],
   "source": [
    "#print(Hzbin)"
   ]
  },
  {
   "cell_type": "markdown",
   "metadata": {},
   "source": [
    "GRaficamos H(z) vs z"
   ]
  },
  {
   "cell_type": "code",
   "execution_count": 105,
   "metadata": {},
   "outputs": [
    {
     "data": {
      "image/png": "[encoded data removed]",
      "text/plain": [
       "<Figure size 432x288 with 1 Axes>"
      ]
     },
     "metadata": {
      "needs_background": "light"
     },
     "output_type": "display_data"
    }
   ],
   "source": [
    "fig1=plt.figure()\n",
    "plt.plot(zbin,Hzbin, color='blue',label='Model X')\n",
    "plt.plot(zbin,HzLCDMbin, color='red',label='LCDM')\n",
    "plt.xlabel('z')\n",
    "plt.ylabel('$H(z) km s^{-1} Mpc^{-1}$')\n",
    "plt.legend()\n",
    "fig1.savefig(\"Hz.pdf\")"
   ]
  },
  {
   "cell_type": "code",
   "execution_count": 29,
   "metadata": {},
   "outputs": [],
   "source": [
    "Dcbin=np.zeros(bins)\n",
    "for i in range(len(zbin)):\n",
    "    Dcbin[i]=Dc(zbin[i],*par)"
   ]
  },
  {
   "cell_type": "markdown",
   "metadata": {},
   "source": [
    "Graficamos la distancia comóvil como función de z"
   ]
  },
  {
   "cell_type": "code",
   "execution_count": 30,
   "metadata": {},
   "outputs": [
    {
     "data": {
      "image/png": "[encoded data removed]",
      "text/plain": [
       "<Figure size 432x288 with 1 Axes>"
      ]
     },
     "metadata": {
      "needs_background": "light"
     },
     "output_type": "display_data"
    }
   ],
   "source": [
    "fig1=plt.figure()\n",
    "plt.plot(zbin,Dcbin)\n",
    "plt.xlabel('z')\n",
    "plt.ylabel('$Dc(z) Mpc$')\n",
    "plt.show()\n",
    "fig1.savefig(\"DC.pdf\")"
   ]
  },
  {
   "cell_type": "code",
   "execution_count": null,
   "metadata": {},
   "outputs": [],
   "source": []
  },
  {
   "cell_type": "code",
   "execution_count": 31,
   "metadata": {},
   "outputs": [],
   "source": [
    "DAbin=np.zeros(bins)\n",
    "for i in range(len(zbin)):\n",
    "    DAbin[i]=DA(zbin[i],*par)"
   ]
  },
  {
   "cell_type": "code",
   "execution_count": 32,
   "metadata": {},
   "outputs": [
    {
     "data": {
      "image/png": "[encoded data removed]",
      "text/plain": [
       "<Figure size 432x288 with 1 Axes>"
      ]
     },
     "metadata": {
      "needs_background": "light"
     },
     "output_type": "display_data"
    }
   ],
   "source": [
    "fig2=plt.figure()\n",
    "plt.plot(zbin,DAbin)\n",
    "plt.xlabel('z')\n",
    "plt.ylabel('$DA(z) Mpc$')\n",
    "plt.show()\n",
    "fig2.savefig(\"DA.pdf\")"
   ]
  },
  {
   "cell_type": "code",
   "execution_count": 33,
   "metadata": {},
   "outputs": [],
   "source": [
    "DLbin=np.zeros(bins)\n",
    "for i in range(len(zbin)):\n",
    "    DLbin[i]=DL(zbin[i],*par)"
   ]
  },
  {
   "cell_type": "code",
   "execution_count": 34,
   "metadata": {},
   "outputs": [
    {
     "data": {
      "image/png": "[encoded data removed]",
      "text/plain": [
       "<Figure size 432x288 with 1 Axes>"
      ]
     },
     "metadata": {
      "needs_background": "light"
     },
     "output_type": "display_data"
    }
   ],
   "source": [
    "fig3=plt.figure()\n",
    "plt.plot(zbin,DLbin)\n",
    "plt.xlabel('z')\n",
    "plt.ylabel('$DL(z) Mpc$')\n",
    "plt.show()\n",
    "fig3.savefig(\"DL.pdf\")"
   ]
  },
  {
   "cell_type": "code",
   "execution_count": 175,
   "metadata": {},
   "outputs": [
    {
     "data": {
      "image/png": "[encoded data removed]",
      "text/plain": [
       "<Figure size 432x288 with 1 Axes>"
      ]
     },
     "metadata": {
      "needs_background": "light"
     },
     "output_type": "display_data"
    }
   ],
   "source": [
    "fig4=plt.figure()\n",
    "plt.plot(zbin,DLbin, label='DL')\n",
    "plt.plot(zbin,DAbin, label='DA')\n",
    "plt.plot(zbin,Dcbin, label='DC')\n",
    "plt.xlabel('z')\n",
    "plt.ylabel('$Distance(z) Mpc$')\n",
    "plt.legend()\n",
    "fig4.savefig(\"Distances.pdf\")"
   ]
  },
  {
   "cell_type": "code",
   "execution_count": 109,
   "metadata": {},
   "outputs": [
    {
     "name": "stdout",
     "output_type": "stream",
     "text": [
      "[19.6  12.   26.2   8.    4.    5.   29.6   2.65 14.   36.6   6.22  8.4\n",
      " 14.   17.    3.68  7.8  62.    7.85 13.    6.1   8.    7.   12.   17.\n",
      " 40.   23.   20.   17.   18.   14.   40.  ]\n"
     ]
    }
   ],
   "source": [
    "data= np.loadtxt('hz_new.dat')\n",
    "\n",
    "zdat = data[:,0]\n",
    "H0dat = data[:,1]\n",
    "sigma = data[:,2]\n",
    "\n",
    "print(sigma)"
   ]
  },
  {
   "cell_type": "code",
   "execution_count": 110,
   "metadata": {},
   "outputs": [
    {
     "data": {
      "image/png": "[encoded data removed]",
      "text/plain": [
       "<Figure size 432x288 with 1 Axes>"
      ]
     },
     "metadata": {
      "needs_background": "light"
     },
     "output_type": "display_data"
    }
   ],
   "source": [
    "fig5=plt.figure()\n",
    "plt.errorbar(zdat,H0dat, yerr=sigma,fmt='o')\n",
    "plt.plot(zbin,Hzbin, label='model')\n",
    "plt.xlabel('z')\n",
    "plt.ylabel('$H(z) ksm//Mpc$')\n",
    "plt.legend()\n",
    "fig5.savefig(\"Hwithdata.pdf\")"
   ]
  },
  {
   "cell_type": "markdown",
   "metadata": {},
   "source": [
    "Ahora queremos ajustar los parámetros de un modelo con los datos a través de la Chi-cuadrada\n",
    "\n",
    "\\begin{equation}\n",
    "\\chi^{2}= \\sum_{i}^{N} \\left(\\frac{y_{i}-y_{mod}(\\Theta)}{\\sigma_{i}}\\right)^2\n",
    "\\end{equation}\n",
    "\n",
    "donde $N$ es el número de datos y $\\Theta$ es un vector que contiene $M parámetros libres$\n",
    "\n",
    "Una prueba de un buen fiteo ('goodness-of-fit') es que $\\chi^{2}\\approx \\nu$ donde $\\nu=N-M$ es el número de grados de libertad. Se define la chi-reducida como $\\chi_{red}^{2}=\\chi^{2}/\\nu$. Se tiene que:\n",
    "\n",
    "\\begin{equation}\n",
    "\\chi^{2}_{red}=\n",
    "\\begin{cases}\n",
    ">1 & \\text{ mal ajuste o errores subestimados}  \\\\\n",
    "\\approx 1 & \\text{buen ajuste}\\\\\n",
    "<1 & \\text{ sobreajuste, errores sobreestimados}\\\\\n",
    "\\end{cases}\n",
    "\\end{equation}\n"
   ]
  },
  {
   "cell_type": "code",
   "execution_count": 123,
   "metadata": {},
   "outputs": [],
   "source": [
    "def ChiHzmodel(*par_free):\n",
    "    a=0.0\n",
    "    for i in range(len(zdat)):\n",
    "        x=(H0dat[i] - par_free[0]*100*Ezmodel(zdat[i],*par_free))/sigma[i]\n",
    "        a +=pow(x,2.0)\n",
    "    return a"
   ]
  },
  {
   "cell_type": "code",
   "execution_count": 124,
   "metadata": {},
   "outputs": [],
   "source": [
    "from scipy.optimize import differential_evolution"
   ]
  },
  {
   "cell_type": "code",
   "execution_count": 125,
   "metadata": {},
   "outputs": [
    {
     "name": "stderr",
     "output_type": "stream",
     "text": [
      "/home/aldebaran/anaconda3/envs/LENS/lib/python3.8/site-packages/scipy/optimize/_numdiff.py:519: RuntimeWarning: invalid value encountered in true_divide\n",
      "  J_transposed[i] = df / dx\n"
     ]
    },
    {
     "data": {
      "text/plain": [
       "(array([ 6.99991561e-01,  1.00000000e-01,  1.92966343e-01,  6.41821356e-06,\n",
       "        -2.98270400e+00,  1.32893680e-01]),\n",
       " 15.889275787879686)"
      ]
     },
     "execution_count": 125,
     "metadata": {},
     "output_type": "execute_result"
    }
   ],
   "source": [
    "fun = lambda parf: ChiHzmodel(parf[0],parf[1],parf[2],parf[3],parf[4],parf[5])  # esta línea es solo para CPL\n",
    "bounds = [(0.1,0.7), (0.1,.1),(0.1,.6),(1e-6,1e-5),(-3.0,-0.5),(-4.0,4.0)] #esta línea es solo para CPL\n",
    "\n",
    "result = differential_evolution(fun, bounds)\n",
    "result.x, result.fun"
   ]
  },
  {
   "cell_type": "code",
   "execution_count": 126,
   "metadata": {},
   "outputs": [],
   "source": [
    "from scipy.optimize import minimize"
   ]
  },
  {
   "cell_type": "code",
   "execution_count": 127,
   "metadata": {},
   "outputs": [],
   "source": [
    "res = minimize(fun, (0.7, 0.05,0.27,1e-5,-1,0), bounds=bounds)"
   ]
  },
  {
   "cell_type": "code",
   "execution_count": 128,
   "metadata": {},
   "outputs": [
    {
     "name": "stdout",
     "output_type": "stream",
     "text": [
      "      fun: 251.84957494408152\n",
      " hess_inv: <6x6 LbfgsInvHessProduct with dtype=float64>\n",
      "      jac: array([3245.73308109,           nan,  532.06603951, 1487.92741186,\n",
      "        251.97056901, -339.91149166])\n",
      "  message: b'CONVERGENCE: REL_REDUCTION_OF_F_<=_FACTR*EPSMCH'\n",
      "     nfev: 21\n",
      "      nit: 1\n",
      "     njev: 3\n",
      "   status: 0\n",
      "  success: True\n",
      "        x: array([ 7.0e-01,  1.0e-01,  2.7e-01,  1.0e-05, -1.0e+00,  0.0e+00])\n"
     ]
    }
   ],
   "source": [
    "print(res)"
   ]
  },
  {
   "cell_type": "markdown",
   "metadata": {},
   "source": [
    "Cambiar $\\Omega_{r0}=2.469 \\times 10^{-5}h^{-2} (1+0.2271N_{eff})$, donde $N_{eff}=3.04$ es el número de especies relativistas"
   ]
  },
  {
   "cell_type": "markdown",
   "metadata": {},
   "source": [
    "Selección de modelos\n",
    "\n",
    "\n",
    "\\begin{equation}\n",
    "{\\rm AIC}=\\chi^2+2M\\;,\n",
    "\\end{equation}\n",
    "\n",
    "\\begin{equation}\n",
    "{\\rm BIC}=\\chi^2+M\\ln N\\;\n",
    "\\end{equation}\n",
    "\n",
    "Se trabaja con la diferencia entre dos o todos los modelos $\\Delta {\\rm AIC} \\equiv \n",
    "{\\rm AIC}_2-{\\rm AIC}_1$\n",
    "\n",
    "\n",
    "Evidencia a favor del modelo\n",
    "\\begin{equation}\n",
    "\\Delta_{AIC}=\n",
    "\\begin{cases}\n",
    "0 - 2 &\t\\text{ Substantial} \\\\\n",
    "4 - 7 &\t\\text {Considerably less} \\\\\n",
    "> 10 & \\text {Essentially none} \\\\\n",
    "\\end{cases}\n",
    "\\end{equation}\n",
    "\n",
    "Evidencia en contra del modelo\n",
    "\\begin{equation}\n",
    "\\Delta_{BIC}=\n",
    "\\begin{cases}\n",
    "0 - 2 & \\text{ Not worth more than a bare mention} \\\\\n",
    "2 - 6 &\t\\text{ Positive} \\\\\n",
    "6 - 10 & \\text{ Strong} \\\\\n",
    "> 10 & \\text{ Very strong} \\\\\n",
    "\\end{cases}\n",
    "\\end{equation}\n",
    "\n"
   ]
  },
  {
   "cell_type": "code",
   "execution_count": null,
   "metadata": {},
   "outputs": [],
   "source": []
  }
 ],
 "metadata": {
  "kernelspec": {
   "display_name": "Python 3",
   "language": "python",
   "name": "python3"
  },
  "language_info": {
   "codemirror_mode": {
    "name": "ipython",
    "version": 3
   },
   "file_extension": ".py",
   "mimetype": "text/x-python",
   "name": "python",
   "nbconvert_exporter": "python",
   "pygments_lexer": "ipython3",
   "version": "3.8.5"
  }
 },
 "nbformat": 4,
 "nbformat_minor": 2
}
