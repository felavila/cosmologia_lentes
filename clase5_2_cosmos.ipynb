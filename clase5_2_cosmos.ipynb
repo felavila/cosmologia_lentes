{
 "cells": [
  {
   "cell_type": "code",
   "execution_count": 4,
   "metadata": {},
   "outputs": [],
   "source": [
    "import numpy as np\n",
    "from scipy.integrate import quad\n",
    "import matplotlib.pyplot as plt\n",
    "from matplotlib.ticker import MaxNLocator"
   ]
  },
  {
   "cell_type": "code",
   "execution_count": 5,
   "metadata": {},
   "outputs": [
    {
     "name": "stdout",
     "output_type": "stream",
     "text": [
      "0.315\n"
     ]
    },
    {
     "data": {
      "text/plain": [
       "4450.593824228029"
      ]
     },
     "execution_count": 5,
     "metadata": {},
     "output_type": "execute_result"
    }
   ],
   "source": [
    "#Se definen algunos parámetricos cosmológicos estándares\n",
    "neff0=3.04 # número efectivo de especies relativista\n",
    "h=.6736 #H0/100 km/s/Mpc\n",
    "om_bar0=0.051 #parámetro de densidad bariónico a z=0\n",
    "om_dm0=0.264 #parámetro de densidad de materia oscura a z=0\n",
    "om_lam0=0.68 #parámetro de densidad de constante cosmológica a z=0\n",
    "om_rad0=9.237e-05 #parámetro de densidad de radiación a z=0\n",
    "\n",
    "print(om_bar0+om_dm0)\n",
    "c=299792 #km/s #velocidad de la luz\n",
    "kmtoMpc=3.2408e-20 #factor de conversión de km a Mpc\n",
    "H0=h*100\n",
    "H0s=(H0)*kmtoMpc\n",
    "c_over_H0=c*kmtoMpc/H0s #c/H0\n",
    "c_over_H0"
   ]
  },
  {
   "cell_type": "markdown",
   "metadata": {},
   "source": [
    "Modelos cosmologicos"
   ]
  },
  {
   "cell_type": "markdown",
   "metadata": {},
   "source": [
    "Cambiar $\\Omega_{r0}=2.469 \\times 10^{-5}h^{-2} (1+0.2271N_{eff})$, donde $N_{eff}=3.04$ es el número de especies relativistas"
   ]
  },
  {
   "cell_type": "code",
   "execution_count": 6,
   "metadata": {},
   "outputs": [],
   "source": [
    "def omr(h):\n",
    "    return 2.469e-5*pow(h,-2.0)*(1.0+0.2271*neff0)"
   ]
  },
  {
   "cell_type": "code",
   "execution_count": 27,
   "metadata": {},
   "outputs": [],
   "source": [
    "# Se define la clase para la Cosmología estándar LCDM\n",
    "class CosmologiaLCDM:\n",
    "    def __init__(self,h=.6736,odm0=0.264, ob0=0.051):\n",
    "        #Aquí se definen los parámetros del modelo cosmológicos como propiedades de la clase\n",
    "        self.h= h\n",
    "        self.Omega_dm0 = odm0 \n",
    "        self.Omega_rad0 = omr(h)\n",
    "        self.Omega_bar0 = ob0    \n",
    "    \n",
    "    #Atributos de la clase\n",
    "    def Ezmodel(self, z=0):\n",
    "        #This function returns the dimensionless Friedmann equation E(z)=H(z)/H0 for LCDM\n",
    "        z1=1.0+z\n",
    "        \n",
    "        z13=np.power(z1,3.)\n",
    "        \n",
    "        z14=np.power(z1,4.)\n",
    "        \n",
    "        OMAT=(self.Omega_dm0+self.Omega_bar0)*z13 #Matter density (dark+baryionic) parameter as function of z\n",
    "        \n",
    "        ORAD=self.Omega_rad0*z14 #radiation density parameter as function of z\n",
    "        \n",
    "        ODE=1.0- self.Omega_dm0 - self.Omega_bar0-self.Omega_rad0 #Flatness condition\n",
    "        \n",
    "        x=np.sqrt(OMAT +ORAD + ODE)\n",
    "        \n",
    "        return x\n",
    "    \n",
    "    def fmodel(self,z=0):\n",
    "        #This function returns the inverse of the  dimensionless Friedmann equation\n",
    "        return 1.0/self.Ezmodel(z)\n",
    "    \n",
    "    def Dc(self,z=0):\n",
    "        #This function returns the transverse comoving distance for a flat Universe\n",
    "        if type(z)==int or type(z)==float or type(z)==np.float64:\n",
    "            dc=c_over_H0*quad(lambda x:self.fmodel(x),0,z)[0]\n",
    "        else:\n",
    "            dc=np.array([])\n",
    "            #print(self.fmodel(x))\n",
    "            for i in range(len(z)):\n",
    "                dc=np.append(dc,c_over_H0*quad(lambda x:self.fmodel(x),0,z[i])[0])                \n",
    "        return dc\n",
    "\n",
    "    def DA(self,z=0):\n",
    "        #This function returns the angular diameter distance to any source at redshift z\n",
    "        return (1/(1+z))*self.Dc(z)\n",
    "    #duda debido a que no tengo claro como funciona esto \n",
    "    def DA12(self,z1=0.5,z2=2):\n",
    "        #\"This function returns the angular diameter distance between two objects\"\n",
    "        return (c_over_H0/(1+z2))*quad(lambda x:self.fmodel(x),z1,z2)[0]\n",
    "\n",
    "    def DL(self,z=0):\n",
    "         #\"This function returns the luminosity distance at redshift z\"\n",
    "        return (1+z)*self.Dc(z)\n",
    "    \n"
   ]
  },
  {
   "cell_type": "markdown",
   "metadata": {},
   "source": [
    "\\begin{equation}\n",
    "\\Omega_{M0}=\\Omega_{DM0} + \\Omega_{b0} ??\n",
    "\\end{equation}\n",
    "\n",
    "\\begin{equation}\n",
    "H^2=H_{0}^{2}\\left[\\Omega_{r0}(1+z)^4+(1-\\Omega_{M0}-\\Omega_{r0})(1+z)^{3(1+w_{x})}+\n",
    " \\frac{\\Omega_{M0}}{\\delta+3w_x}\\left[\\delta(1+z)^{3(1+w_x)}+3w_{x}(1+z)^{3-\\delta} \\right] \\right]\n",
    "\\end{equation}"
   ]
  },
  {
   "cell_type": "code",
   "execution_count": 62,
   "metadata": {},
   "outputs": [],
   "source": [
    "#se define la clase para la cosmologia interactuantes  \n",
    "class CosmologiaInteractuantes:\n",
    "    def __init__(self,h=.6736,odm0=0.264, ob0=0.051, wx=-0.95,delta=0.77):\n",
    "        self.h= h\n",
    "        self.Omega_dm0 = odm0 \n",
    "        self.Omega_rad0 = omr(h)\n",
    "        self.Omega_bar0 = ob0 \n",
    "        self.iwx=wx\n",
    "        self.idelta=delta\n",
    "    def Ezmodel(self, z=0):\n",
    "        Z=1.0+z\n",
    "        W=1+self.iwx\n",
    "        om_m0=self.Omega_bar0+self.Omega_dm0\n",
    "        om_lamb=(1.0-self.Omega_rad0-om_m0) #condición de planitud omega lambda \n",
    "        y=np.sqrt(self.Omega_rad0*(Z)**4+om_lamb*(Z)**(3*W)+\n",
    "                     om_m0*(self.idelta*(Z)**(3*W)+\n",
    "                            3*self.iwx*Z**(3-self.idelta))/(self.idelta+3*self.iwx))\n",
    "        return y\n",
    "    def fmodel(self,z=0):\n",
    "        #\"This function returns the inverse of the  dimensionless Friedmann equation\"\n",
    "        return 1.0/self.Ezmodel(z)\n",
    "    \n",
    "    def Dc(self,z=0):\n",
    "        #This function returns the transverse comoving distance for a flat Universe\n",
    "        if type(z)==int or type(z)==float or type(z)==np.float64:\n",
    "            dc=c_over_H0*quad(lambda x:self.fmodel(x),0,z)[0]\n",
    "        else:\n",
    "            dc=np.array([])\n",
    "            for i in range(len(z)):\n",
    "                dc=np.append(dc,c_over_H0*quad(lambda x:self.fmodel(x),0,z[i])[0])                \n",
    "        return dc\n",
    "\n",
    "    def DA(self,z=0):\n",
    "        #\"This function returns the angular diameter distance to any source at redshift z\"\n",
    "        return (1/(1+z))*self.Dc(z)\n",
    "\n",
    "    def DA12(self,z1=0.5,z2=2.0):\n",
    "        #\"This function returns the angular diameter distance between two objects\"\n",
    "        return (c_over_H0/(1+z2))*quad(lambda x:self.fmodel(x),z1,z2)[0]\n",
    "\n",
    "    def DL(self,z=0):\n",
    "         #\"This function returns the luminosity distance at redshift z\"\n",
    "        return (1+z)*self.Dc(z)\n"
   ]
  },
  {
   "cell_type": "code",
   "execution_count": 37,
   "metadata": {},
   "outputs": [],
   "source": [
    "# se define la clase para la Cosmología Cardassiana\n",
    "class CosmologiaCardassian:\n",
    "    def __init__(self,h=.6736,odm0=0.264, ob0=0.051, nfid=-0.2):\n",
    "        self.h= h\n",
    "        self.Omega_dm0 = odm0 \n",
    "        self.Omega_rad0 = omr(h)\n",
    "        self.Omega_bar0 = ob0 \n",
    "        self.n=nfid\n",
    "    \n",
    "        \n",
    "    def Ezmodel(self, z):\n",
    "        \n",
    "        z1=1.0+z\n",
    "        \n",
    "        z13=np.power(z1,3.)\n",
    "        \n",
    "        z14=np.power(z1,4.)\n",
    "        \n",
    "        OMAT0=(self.Omega_dm0+self.Omega_bar0) #Matter density (dark+baryionic) parameter at z=0\n",
    "        \n",
    "        OMAT=OMAT0*z13 #Matter density (dark+baryionic) parameter as function of z\n",
    "        \n",
    "        ORAD=self.Omega_rad0*z14 #radiation density parameter as function of z\n",
    "        \n",
    "        ODE=1.0-OMAT0-self.Omega_rad0\n",
    "        \n",
    "        OMSTD=OMAT+ORAD\n",
    "        \n",
    "        x=OMSTD/(OMAT0+self.Omega_rad0)\n",
    "        \n",
    "        fde=np.power(x,self.n)\n",
    "        \n",
    "        y=np.sqrt(OMSTD +fde )\n",
    "        \n",
    "        return y\n",
    "\n",
    "    def fmodel(self,z=0):\n",
    "        #\"This function returns the inverse of the  dimensionless Friedmann equation\"\n",
    "        return 1.0/self.Ezmodel(z)\n",
    "    \n",
    "    def Dc(self,z=0):\n",
    "        #This function returns the transverse comoving distance for a flat Universe\n",
    "        if type(z)==int or type(z)==float or type(z)==np.float64:\n",
    "            dc=c_over_H0*quad(lambda x:self.fmodel(x),0,z)[0]\n",
    "        else:\n",
    "            dc=np.array([])\n",
    "            #print(self.fmodel(x))\n",
    "            for i in range(len(z)):\n",
    "                dc=np.append(dc,c_over_H0*quad(lambda x:self.fmodel(x),0,z[i])[0])                \n",
    "        return dc\n",
    "\n",
    "    def DA(self,z=0):\n",
    "        #\"This function returns the angular diameter distance to any source at redshift z\"\n",
    "        return (1/(1+z))*self.Dc(z)\n",
    "\n",
    "    def DA12(self,z1=0.5,z2=2.0):\n",
    "        #\"This function returns the angular diameter distance between two objects\"\n",
    "        return (c_over_H0/(1+z2))*quad(lambda x:self.fmodel(x),z1,z2)[0]\n",
    "\n",
    "    def DL(self,z=0):\n",
    "         #\"This function returns the luminosity distance at redshift z\"\n",
    "        return (1+z)*self.Dc(z)\n"
   ]
  },
  {
   "cell_type": "code",
   "execution_count": 70,
   "metadata": {},
   "outputs": [
    {
     "data": {
      "text/plain": [
       "<matplotlib.legend.Legend at 0x7f7ea6503580>"
      ]
     },
     "execution_count": 70,
     "metadata": {},
     "output_type": "execute_result"
    },
    {
     "data": {
      "image/png": "[encoded data removed]",
      "text/plain": [
       "<Figure size 432x288 with 1 Axes>"
      ]
     },
     "metadata": {
      "needs_background": "light"
     },
     "output_type": "display_data"
    }
   ],
   "source": [
    "bins=100\n",
    "zbin=np.linspace(0,2,bins)\n",
    "#print(zbin)\n",
    "fig5=plt.figure()\n",
    "cos1=CosmologiaLCDM()\n",
    "cos2=CosmologiaInteractuantes()\n",
    "cos3=CosmologiaCardassian()\n",
    "plt.plot(zbin,H0*cos1.Ezmodel(zbin), color='orange',label='LCDM')\n",
    "plt.plot(zbin,H0*cos2.Ezmodel(zbin), color='green',label='CARDASSIAN')\n",
    "plt.plot(zbin,H0*cos3.Ezmodel(zbin), color='blue',label='Interactuantes')\n",
    "plt.xlabel('z')\n",
    "plt.ylabel('$H(z) ksm//Mpc$')\n",
    "plt.legend()\n",
    "#fig5.savefig(\"Hwithdata.pdf\")"
   ]
  },
  {
   "cell_type": "code",
   "execution_count": 6,
   "metadata": {},
   "outputs": [
    {
     "data": {
      "text/plain": [
       "0.6736"
      ]
     },
     "execution_count": 6,
     "metadata": {},
     "output_type": "execute_result"
    }
   ],
   "source": [
    "cos1.h"
   ]
  },
  {
   "cell_type": "code",
   "execution_count": 16,
   "metadata": {},
   "outputs": [
    {
     "data": {
      "text/plain": [
       "1.0"
      ]
     },
     "execution_count": 16,
     "metadata": {},
     "output_type": "execute_result"
    }
   ],
   "source": [
    "coslc2=CosmologiaLCDM(h=0.8)\n",
    "coslc2.h\n",
    "coslc2.Omega_dm0\n",
    "coslc2.Ezmodel(0)"
   ]
  },
  {
   "cell_type": "code",
   "execution_count": 33,
   "metadata": {},
   "outputs": [],
   "source": [
    "zlis=[0,1,10]"
   ]
  },
  {
   "cell_type": "code",
   "execution_count": 43,
   "metadata": {},
   "outputs": [
    {
     "name": "stdout",
     "output_type": "stream",
     "text": [
      "642.5876262791998\n"
     ]
    }
   ],
   "source": [
    "cos2=CosmologiaCardassian() #En esta línea se define una variable cos1 con la Cosmología LCDM\n",
    "Dc2=cos2.DA12(1) # Aquí acceso al atributo distancia comóvil y evaluo a z=1\n",
    "print(Dc2)"
   ]
  },
  {
   "cell_type": "code",
   "execution_count": 25,
   "metadata": {},
   "outputs": [
    {
     "data": {
      "text/plain": [
       "0.67"
      ]
     },
     "execution_count": 25,
     "metadata": {},
     "output_type": "execute_result"
    }
   ],
   "source": [
    "cos2.h"
   ]
  },
  {
   "cell_type": "code",
   "execution_count": 37,
   "metadata": {},
   "outputs": [
    {
     "name": "stdout",
     "output_type": "stream",
     "text": [
      "31\n"
     ]
    }
   ],
   "source": [
    "data= np.loadtxt('hz_new.dat')\n",
    "\n",
    "zdat = data[:,0]\n",
    "H0dat = data[:,1]\n",
    "sigma = data[:,2]\n",
    "\n",
    "print(len(zdat))"
   ]
  },
  {
   "cell_type": "code",
   "execution_count": 66,
   "metadata": {},
   "outputs": [],
   "source": [
    "bins=50\n",
    "zbin=np.linspace(0,2,bins)\n",
    "#print(zbin)"
   ]
  },
  {
   "cell_type": "code",
   "execution_count": 40,
   "metadata": {},
   "outputs": [],
   "source": [
    "HzCARbin=np.zeros(bins)\n",
    "HzLCDMbin=np.zeros(bins)"
   ]
  },
  {
   "cell_type": "code",
   "execution_count": 44,
   "metadata": {},
   "outputs": [],
   "source": [
    "for i in range(len(zbin)):\n",
    "    HzCARbin[i]=H0*cos2.Ezmodel(zbin[i])\n",
    "    HzLCDMbin[i]=H0*cos1.Ezmodel(zbin[i])"
   ]
  },
  {
   "cell_type": "code",
   "execution_count": 45,
   "metadata": {},
   "outputs": [
    {
     "data": {
      "image/png": "[encoded data removed]",
      "text/plain": [
       "<Figure size 432x288 with 1 Axes>"
      ]
     },
     "metadata": {
      "needs_background": "light"
     },
     "output_type": "display_data"
    }
   ],
   "source": [
    "fig5=plt.figure()\n",
    "plt.errorbar(zdat,H0dat, yerr=sigma,fmt='o')\n",
    "plt.plot(zbin,HzLCDMbin, color='orange',label='LCDM')\n",
    "plt.plot(zbin,HzCARbin, color='green',label='CARDASSIAN')\n",
    "plt.xlabel('z')\n",
    "plt.ylabel('$H(z) ksm//Mpc$')\n",
    "plt.legend()\n",
    "fig5.savefig(\"Hwithdata.pdf\")"
   ]
  },
  {
   "cell_type": "markdown",
   "metadata": {},
   "source": [
    "Ahora queremos ajustar los parámetros de un modelo con los datos a través de la Chi-cuadrada\n",
    "\n",
    "\\begin{equation}\n",
    "\\chi^{2}= \\sum_{i}^{N} \\left(\\frac{y_{i}-y_{mod}(\\Theta)}{\\sigma_{i}}\\right)^2\n",
    "\\end{equation}\n",
    "\n",
    "donde $N$ es el número de datos y $\\Theta$ es un vector que contiene $M parámetros libres$\n",
    "\n",
    "Una prueba de un buen fiteo ('goodness-of-fit') es que $\\chi^{2}\\approx \\nu$ donde $\\nu=N-M$ es el número de grados de libertad. Se define la chi-reducida como $\\chi_{red}^{2}=\\chi^{2}/\\nu$. Se tiene que:\n",
    "\n",
    "\\begin{equation}\n",
    "\\chi^{2}_{red}=\n",
    "\\begin{cases}\n",
    ">1 & \\text{ mal ajuste o errores subestimados}  \\\\\n",
    "\\approx 1 & \\text{buen ajuste}\\\\\n",
    "<1 & \\text{ sobreajuste, errores sobreestimados}\\\\\n",
    "\\end{cases}\n",
    "\\end{equation}"
   ]
  },
  {
   "cell_type": "code",
   "execution_count": 46,
   "metadata": {},
   "outputs": [],
   "source": [
    "def ChiHzmodel(p1,p2,p3):\n",
    "    cosmo=CosmologiaLCDM(p1,p2,p3)\n",
    "    a=0.0\n",
    "    for i in range(len(zdat)):\n",
    "        x=(H0dat[i] - (100*cosmo.h)*cosmo.Ezmodel(zdat[i]))/sigma[i]\n",
    "        a +=pow(x,2.0)\n",
    "    return a"
   ]
  },
  {
   "cell_type": "code",
   "execution_count": 49,
   "metadata": {},
   "outputs": [
    {
     "data": {
      "text/plain": [
       "0.8963781807356518"
      ]
     },
     "execution_count": 49,
     "metadata": {},
     "output_type": "execute_result"
    }
   ],
   "source": [
    "ChiHzmodel(0.7,0.3,0.045)/(28)"
   ]
  },
  {
   "cell_type": "code",
   "execution_count": 50,
   "metadata": {},
   "outputs": [],
   "source": [
    "from scipy.optimize import differential_evolution"
   ]
  },
  {
   "cell_type": "code",
   "execution_count": 54,
   "metadata": {},
   "outputs": [
    {
     "data": {
      "text/plain": [
       "(array([0.69694848, 0.23083124, 0.04998649]), 16.020279223897255)"
      ]
     },
     "execution_count": 54,
     "metadata": {},
     "output_type": "execute_result"
    }
   ],
   "source": [
    "fun = lambda parf: ChiHzmodel(parf[0],parf[1],parf[2])  # esta línea es solo para CPL\n",
    "bounds = [(0.0,1.0), (0.0,1.0),(0.01,0.1)] #esta línea es solo para CPL\n",
    "\n",
    "result = differential_evolution(fun, bounds)\n",
    "result.x, result.fun"
   ]
  },
  {
   "cell_type": "code",
   "execution_count": 55,
   "metadata": {},
   "outputs": [
    {
     "name": "stdout",
     "output_type": "stream",
     "text": [
      "16.020279223897255\n"
     ]
    }
   ],
   "source": [
    "chilcdm= ChiHzmodel(result.x[0],result.x[1],result.x[2])\n",
    "print(chilcdm)"
   ]
  },
  {
   "cell_type": "code",
   "execution_count": 56,
   "metadata": {},
   "outputs": [],
   "source": [
    "from scipy.optimize import minimize"
   ]
  },
  {
   "cell_type": "code",
   "execution_count": 59,
   "metadata": {},
   "outputs": [
    {
     "name": "stderr",
     "output_type": "stream",
     "text": [
      "/home/aldebaran/anaconda3/lib/python3.7/site-packages/ipykernel_launcher.py:2: RuntimeWarning: divide by zero encountered in double_scalars\n",
      "  \n",
      "/home/aldebaran/anaconda3/lib/python3.7/site-packages/ipykernel_launcher.py:25: RuntimeWarning: invalid value encountered in double_scalars\n"
     ]
    }
   ],
   "source": [
    "res = minimize(fun, (0.1, 0.1,0.01), bounds=bounds)"
   ]
  },
  {
   "cell_type": "code",
   "execution_count": 58,
   "metadata": {},
   "outputs": [
    {
     "name": "stdout",
     "output_type": "stream",
     "text": [
      "      fun: 16.020279223897347\n",
      " hess_inv: <3x3 LbfgsInvHessProduct with dtype=float64>\n",
      "      jac: array([6.03961325e-06, 1.03028697e-05, 1.06581410e-05])\n",
      "  message: b'CONVERGENCE: REL_REDUCTION_OF_F_<=_FACTR*EPSMCH'\n",
      "     nfev: 80\n",
      "      nit: 13\n",
      "   status: 0\n",
      "  success: True\n",
      "        x: array([0.69694848, 0.27081774, 0.01      ])\n"
     ]
    }
   ],
   "source": [
    "print(res)"
   ]
  },
  {
   "cell_type": "code",
   "execution_count": 60,
   "metadata": {},
   "outputs": [],
   "source": [
    "def ChiHzCARmodel(p1,p2,p3,p4):\n",
    "    cosmo2=CosmologiaCardassian(p1,p2,p3,p4)\n",
    "    a=0.0\n",
    "    for i in range(len(zdat)):\n",
    "        x=(H0dat[i] - (100*cosmo2.h)*cosmo2.Ezmodel(zdat[i]))/sigma[i]\n",
    "        a +=pow(x,2.0)\n",
    "    return a"
   ]
  },
  {
   "cell_type": "code",
   "execution_count": 61,
   "metadata": {},
   "outputs": [
    {
     "data": {
      "text/plain": [
       "84.62717186700482"
      ]
     },
     "execution_count": 61,
     "metadata": {},
     "output_type": "execute_result"
    }
   ],
   "source": [
    "ChiHzCARmodel(0.67,0.264,0.051, 0.2)"
   ]
  },
  {
   "cell_type": "code",
   "execution_count": 63,
   "metadata": {},
   "outputs": [
    {
     "data": {
      "text/plain": [
       "array([ 0.60873849,  0.34316409,  0.06185676, -0.2       ])"
      ]
     },
     "execution_count": 63,
     "metadata": {},
     "output_type": "execute_result"
    }
   ],
   "source": [
    "fun2 = lambda parf: ChiHzCARmodel(parf[0],parf[1],parf[2],parf[3])  # esta línea es solo para CPL\n",
    "bounds2 = [(0.01,1), (0.01,1.0),(0.01,0.08), (-0.2,1)] #esta línea es solo para CPL\n",
    "\n",
    "result2 = differential_evolution(fun2, bounds2)\n",
    "result2.x"
   ]
  },
  {
   "cell_type": "code",
   "execution_count": 103,
   "metadata": {},
   "outputs": [
    {
     "data": {
      "text/plain": [
       "0.608738449906847"
      ]
     },
     "execution_count": 103,
     "metadata": {},
     "output_type": "execute_result"
    }
   ],
   "source": [
    "result2.x[0]"
   ]
  },
  {
   "cell_type": "code",
   "execution_count": 68,
   "metadata": {},
   "outputs": [
    {
     "name": "stdout",
     "output_type": "stream",
     "text": [
      "0.5716451327951838\n"
     ]
    }
   ],
   "source": [
    "chicar=ChiHzCARmodel(result2.x[0],result2.x[1],result2.x[2],result2.x[3])\n",
    "print(chicar/(31-4))"
   ]
  },
  {
   "cell_type": "markdown",
   "metadata": {},
   "source": [
    "Selección de modelos\n",
    "\n",
    "\n",
    "\\begin{equation}\n",
    "{\\rm AIC}=\\chi^2+2M\\;,\n",
    "\\end{equation}\n",
    "\n",
    "\\begin{equation}\n",
    "{\\rm BIC}=\\chi^2+M\\ln N\\;\n",
    "\\end{equation}\n",
    "\n",
    "Se trabaja con la diferencia entre dos o todos los modelos $\\Delta {\\rm AIC} \\equiv \n",
    "{\\rm AIC}_2-{\\rm AIC}_1$ y $\\Delta {\\rm BIC} \\equiv \n",
    "{\\rm BIC}_2-{\\rm BIC}_1$\n",
    "\n",
    "\n",
    "Evidencia a favor del modelo\n",
    "\\begin{equation}\n",
    "\\Delta_{AIC}=\n",
    "\\begin{cases}\n",
    "0 - 2 &\t\\text{ Substantial} \\\\\n",
    "4 - 7 &\t\\text {Considerably less} \\\\\n",
    "> 10 & \\text {Essentially none} \\\\\n",
    "\\end{cases}\n",
    "\\end{equation}\n",
    "\n",
    "Evidencia en contra del modelo\n",
    "\\begin{equation}\n",
    "\\Delta_{BIC}=\n",
    "\\begin{cases}\n",
    "0 - 2 & \\text{ Not worth more than a bare mention} \\\\\n",
    "2 - 6 &\t\\text{ Positive} \\\\\n",
    "6 - 10 & \\text{ Strong} \\\\\n",
    "> 10 & \\text{ Very strong} \\\\\n",
    "\\end{cases}\n",
    "\\end{equation}\n",
    "\n"
   ]
  },
  {
   "cell_type": "code",
   "execution_count": 113,
   "metadata": {},
   "outputs": [
    {
     "name": "stdout",
     "output_type": "stream",
     "text": [
      "22.02403190926872 23.434418585468283\n"
     ]
    }
   ],
   "source": [
    "AIC_lcdm=chilcdm+2*3\n",
    "AIC_car=chicar+2*4\n",
    "print(AIC_lcdm,AIC_car)\n"
   ]
  },
  {
   "cell_type": "code",
   "execution_count": 114,
   "metadata": {},
   "outputs": [
    {
     "data": {
      "text/plain": [
       "1.4103866761995612"
      ]
     },
     "execution_count": 114,
     "metadata": {},
     "output_type": "execute_result"
    }
   ],
   "source": [
    "AIC_car-AIC_lcdm"
   ]
  },
  {
   "cell_type": "code",
   "execution_count": 119,
   "metadata": {},
   "outputs": [
    {
     "name": "stdout",
     "output_type": "stream",
     "text": [
      "26.32599352272416 29.170367403408868\n"
     ]
    }
   ],
   "source": [
    "BIC_lcdm=chilcdm+3*np.log(31)\n",
    "BIC_car=chicar+4*np.log(31)\n",
    "print(BIC_lcdm,BIC_car)"
   ]
  },
  {
   "cell_type": "code",
   "execution_count": 120,
   "metadata": {},
   "outputs": [
    {
     "data": {
      "text/plain": [
       "2.8443738806847065"
      ]
     },
     "execution_count": 120,
     "metadata": {},
     "output_type": "execute_result"
    }
   ],
   "source": [
    "BIC_car-BIC_lcdm"
   ]
  },
  {
   "cell_type": "code",
   "execution_count": null,
   "metadata": {},
   "outputs": [],
   "source": []
  }
 ],
 "metadata": {
  "kernelspec": {
   "display_name": "Python 3",
   "language": "python",
   "name": "python3"
  },
  "language_info": {
   "codemirror_mode": {
    "name": "ipython",
    "version": 3
   },
   "file_extension": ".py",
   "mimetype": "text/x-python",
   "name": "python",
   "nbconvert_exporter": "python",
   "pygments_lexer": "ipython3",
   "version": "3.8.5"
  }
 },
 "nbformat": 4,
 "nbformat_minor": 2
}
