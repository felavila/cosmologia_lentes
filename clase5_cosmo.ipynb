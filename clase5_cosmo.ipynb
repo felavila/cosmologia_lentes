{
 "cells": [
  {
   "cell_type": "code",
   "execution_count": 1,
   "metadata": {},
   "outputs": [],
   "source": [
    "import numpy as np\n",
    "from scipy.integrate import quad\n",
    "import matplotlib.pyplot as plt\n",
    "from matplotlib.ticker import MaxNLocator"
   ]
  },
  {
   "cell_type": "code",
   "execution_count": 2,
   "metadata": {},
   "outputs": [
    {
     "name": "stdout",
     "output_type": "stream",
     "text": [
      "0.315\n"
     ]
    },
    {
     "data": {
      "text/plain": [
       "4450.593824228029"
      ]
     },
     "execution_count": 2,
     "metadata": {},
     "output_type": "execute_result"
    }
   ],
   "source": [
    "#Se definen algunos parámetricos cosmológicos estándares\n",
    "neff0=3.04 # número efectivo de especies relativista\n",
    "h=.6736 #H0/100 km/s/Mpc\n",
    "om_bar0=0.051 #parámetro de densidad bariónico a z=0\n",
    "om_dm0=0.264 #parámetro de densidad de materia oscura a z=0\n",
    "om_lam0=0.68 #parámetro de densidad de constante cosmológica a z=0\n",
    "om_rad0=9.237e-05 #parámetro de densidad de radiación a z=0\n",
    "\n",
    "print(om_bar0+om_dm0)\n",
    "c=299792 #km/s #velocidad de la luz\n",
    "kmtoMpc=3.2408e-20 #factor de conversión de km a Mpc\n",
    "H0=h*100\n",
    "H0s=(H0)*kmtoMpc\n",
    "c_over_H0=c*kmtoMpc/H0s #c/H0\n",
    "c_over_H0"
   ]
  },
  {
   "cell_type": "markdown",
   "metadata": {},
   "source": [
    "Modelos cosmologicos"
   ]
  },
  {
   "cell_type": "code",
   "execution_count": 3,
   "metadata": {},
   "outputs": [],
   "source": [
    "# Se define la clase para la Cosmología estándar LCDM\n",
    "class CosmologiaLCDM:\n",
    "    def __init__(self,h=.6736,odm0=0.264, or0=9.237e-05, ob0=0.051):\n",
    "        #Aquí se definen los parámetros del modelo cosmológicos como propiedades de la clase\n",
    "        self._h= h\n",
    "        self._Omega_dm0 = odm0 \n",
    "        self._Omega_rad0 = or0\n",
    "        self._Omega_bar0 = ob0    \n",
    "    \n",
    "    #Atributos de la clase\n",
    "    def Ezmodel(self, z=0):\n",
    "        #This function returns the dimensionless Friedmann equation E(z)=H(z)/H0 for LCDM\n",
    "        z1=1.0+z\n",
    "        \n",
    "        z13=np.power(z1,3.)\n",
    "        \n",
    "        z14=np.power(z1,4.)\n",
    "        \n",
    "        OMAT=(self._Omega_dm0+self._Omega_bar0)*z13 #Matter density (dark+baryionic) parameter as function of z\n",
    "        \n",
    "        ORAD=self._Omega_rad0*z14 #radiation density parameter as function of z\n",
    "        \n",
    "        ODE=1.0- self._Omega_dm0 - self._Omega_bar0-self._Omega_rad0 #Flatness condition\n",
    "        \n",
    "        x=np.sqrt(OMAT +ORAD + ODE)\n",
    "        \n",
    "        return x\n",
    "    \n",
    "    def fmodel(self,z):\n",
    "        #This function returns the inverse of the  dimensionless Friedmann equation\n",
    "        return 1.0/self.Ezmodel(z)\n",
    "    \n",
    "    def Dc(self,z):\n",
    "        #This function returns the transverse comoving distance for a flat Universe\n",
    "        return c_over_H0*quad(lambda x:self.fmodel(x),0,z)[0]\n",
    "\n",
    "    def DA(self,z):\n",
    "        #This function returns the angular diameter distance to any source at redshift z\n",
    "        return (1/(1+z))*self.Dc(z)\n",
    "\n",
    "    def DA12(self,z1,z2):\n",
    "        #\"This function returns the angular diameter distance between two objects\"\n",
    "        return (c_over_H0/(1+z2))*quad(lambda x:self.fmodel(x),z1,z2)[0]\n",
    "\n",
    "    def DL(self,z):\n",
    "         #\"This function returns the luminosity distance at redshift z\"\n",
    "        return (1+z)*self.Dc(z)\n"
   ]
  },
  {
   "cell_type": "code",
   "execution_count": 4,
   "metadata": {},
   "outputs": [
    {
     "name": "stdout",
     "output_type": "stream",
     "text": [
      "3402.949023150786\n"
     ]
    }
   ],
   "source": [
    "cos1=CosmologiaLCDM() #En esta línea se define una variable cos1 con la Cosmología LCDM\n",
    "Dc1=cos1.Dc(1) # Aquí acceso al atributo distancia comóvil y evaluo a z=1\n",
    "print(Dc1)"
   ]
  },
  {
   "cell_type": "code",
   "execution_count": 5,
   "metadata": {},
   "outputs": [],
   "source": [
    "# se define la clase para la Cosmología Cardassiana\n",
    "class CosmologiaCardassian:\n",
    "    def __init__(self,h=.6736,odm0=0.264, or0=9.237e-05, ob0=0.051, nfid=-0.2):\n",
    "        self._h= h\n",
    "        self._Omega_dm0 = odm0 \n",
    "        self._Omega_rad0 = or0\n",
    "        self._Omega_bar0 = ob0 \n",
    "        self._n=nfid\n",
    "        \n",
    "    def Ezmodel(self, z=0):\n",
    "        \n",
    "        z1=1.0+z\n",
    "        \n",
    "        z13=np.power(z1,3.)\n",
    "        \n",
    "        z14=np.power(z1,4.)\n",
    "        \n",
    "        OMAT0=(self._Omega_dm0+self._Omega_bar0) #Matter density (dark+baryionic) parameter at z=0\n",
    "        \n",
    "        OMAT=OMAT0*z13 #Matter density (dark+baryionic) parameter as function of z\n",
    "        \n",
    "        ORAD=self._Omega_rad0*z14 #radiation density parameter as function of z\n",
    "        \n",
    "        ODE=1.0-OMAT0-self._Omega_rad0\n",
    "        \n",
    "        OMSTD=OMAT+ORAD\n",
    "        \n",
    "        x=OMSTD/(OMAT0+self._Omega_rad0)\n",
    "        \n",
    "        fde=np.power(x,self._n)\n",
    "        \n",
    "        y=np.sqrt(OMSTD +fde )\n",
    "        \n",
    "        return y\n",
    "\n",
    "    def fmodel(self,z):\n",
    "        #\"This function returns the inverse of the  dimensionless Friedmann equation\"\n",
    "        return 1.0/self.Ezmodel(z)\n",
    "    \n",
    "    def Dc(self,z):\n",
    "        #\"This function returns the transverse comoving distance for a flat Universe\"\n",
    "        return c_over_H0*quad(lambda x:self.fmodel(x),0,z)[0]\n",
    "\n",
    "    def DA(self,z):\n",
    "        #\"This function returns the angular diameter distance to any source at redshift z\"\n",
    "        return (1/(1+z))*self.Dc(z)\n",
    "\n",
    "    def DA12(self,z1,z2):\n",
    "        #\"This function returns the angular diameter distance between two objects\"\n",
    "        return (c_over_H0/(1+z2))*quad(lambda x:self.fmodel(x),z1,z2)[0]\n",
    "\n",
    "    def DL(self,z):\n",
    "         #\"This function returns the luminosity distance at redshift z\"\n",
    "        return (1+z)*self.Dc(z)\n",
    "    def Dm(z,h,om_bar0,om_dm0,om_rad0):#Comoving distance transverse \n",
    "    if om_k>0:\n",
    "        D_m=c_over_H0*(om_k)**(-0.5)*np.sinh((om_k)**(0.5)*Dc(z,h,om_bar0,om_dm0,om_rad0)/c_over_H0)\n",
    "    elif om_k==0:\n",
    "        D_m=Dc(z,h,om_bar0,om_dm0,om_rad0)      \n",
    "    else:\n",
    "        D_m=c_over_H0*(abs(om_k))**(-0.5)*np.sinh((abs(om_k))**(0.5)*Dc(z,h,om_bar0,om_dm0,om_rad0)/c_over_H0)\n",
    "    return D_m\n",
    "    def tL(z,h,om_bar0,om_dm0,om_rad0): #lookback time tL\n",
    "    th=1/(100*h) #tiempo de hubble\n",
    "    om_lamb=(1.0-om_dm0-om_rad0-om_bar0)\n",
    "    if type(z)==int or type(z)==float:\n",
    "        Dc=quad(lambda x:f(x,h,om_bar0,om_dm0,om_rad0)/(x+1), 0, z)[0]\n",
    "    else:\n",
    "        Dc=np.array([])\n",
    "        for i in range(len(z)):\n",
    "            Dc=np.append(Dc,quad(lambda x:f(x,h,om_bar0,om_dm0,om_rad0)/(x+1), 0, z[i])[0])                \n",
    "    return th*Dc"
   ]
  },
  {
   "cell_type": "code",
   "execution_count": 6,
   "metadata": {},
   "outputs": [
    {
     "name": "stdout",
     "output_type": "stream",
     "text": [
      "3249.350090929249\n"
     ]
    }
   ],
   "source": [
    "cos2=CosmologiaCardassian() #En esta línea se define una variable cos1 con la Cosmología LCDM\n",
    "Dc2=cos2.Dc(1) # Aquí acceso al atributo distancia comóvil y evaluo a z=1\n",
    "print(Dc2)"
   ]
  }
 ],
 "metadata": {
  "kernelspec": {
   "display_name": "Python 3",
   "language": "python",
   "name": "python3"
  },
  "language_info": {
   "codemirror_mode": {
    "name": "ipython",
    "version": 3
   },
   "file_extension": ".py",
   "mimetype": "text/x-python",
   "name": "python",
   "nbconvert_exporter": "python",
   "pygments_lexer": "ipython3",
   "version": "3.8.5"
  }
 },
 "nbformat": 4,
 "nbformat_minor": 2
}
